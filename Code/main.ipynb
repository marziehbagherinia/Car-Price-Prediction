{
 "cells": [
  {
   "cell_type": "markdown",
   "id": "cutting-resource",
   "metadata": {},
   "source": [
    "<div style=\"direction:rtl\">\n",
    "    <h1 style=\"font-family:B Nazanin; color:rgb(0, 0, 0); text-align: center\">\n",
    "    به نام خدا\n",
    "    </h1>\n",
    "</div>\n",
    "<div style=\"direction:rtl\">\n",
    "    <h2 style=\"font-family:B Nazanin; color:rgb(26, 26, 26)\">\n",
    "    پروژه صفر: آشنایی با هوش مصنوعی<br>مرضیه باقری‌نیا امیری / 810197682\n",
    "    </h2>\n",
    "</div>"
   ]
  },
  {
   "cell_type": "markdown",
   "id": "minor-record",
   "metadata": {},
   "source": [
    "<div style=\"direction:rtl\">\n",
    "    <h2 style=\"font-family:B Nazanin; color:rgb(26, 26, 26)\">\n",
    "    ● هدف پروژه\n",
    "    </h2>\n",
    "</div>\n",
    "<div style=\"direction:rtl\">\n",
    "    <p style=\"font-family:B Nazanin; color:rgb(102, 102, 102); font-size: 20px; text-align: right\">\n",
    "        <br>هدف از انجام این پروژه پیش بینی قیمت خودروها با توجه به ویژگی‌های هر خودرو است. به طور دقیق‌تر هدف این پروژه پر کردن نواقص دیتاست داده شده با پیش‌بینی آن‌ها به کمک تحلیل آماری است.\n",
    "    </p>\n",
    "</div>"
   ]
  },
  {
   "cell_type": "markdown",
   "id": "filled-buffalo",
   "metadata": {},
   "source": [
    "<div style=\"direction:rtl\">\n",
    "    <h2 style=\"font-family:B Nazanin; color:rgb(26, 26, 26)\">\n",
    "    ● توضیح کلی\n",
    "    </h2>\n",
    "</div>\n",
    "<div style=\"direction:rtl\">\n",
    "    <p style=\"font-family:B Nazanin; color:rgb(102, 102, 102); font-size: 20px; text-align: right\">\n",
    "  <br>در این پروژه دیتاستی به ما داده می‌شود که در هر سطر آن ویژگی‌های خودروها وجود دارد و ستون آخر، قیمت خودرو را نشان می‌دهد. بعضی از سطر‌ها ستون آخرشان خالی است که نشان‌دهنده‌ی این است که ما باید آن‌ها را پر کنیم. این پروژه قدم‌های مختلفی از جمله بررسی دیتاست، تبدیل ستون‌های نوعی به عددی، پر کردن مقادیر خالی و ... را شامل می‌شود.\n",
    "    </p>\n",
    "</div>"
   ]
  },
  {
   "cell_type": "markdown",
   "id": "willing-defense",
   "metadata": {},
   "source": [
    "<div style=\"direction:rtl\">\n",
    "    <h2 style=\"font-family:B Nazanin; color:rgb(26, 26, 26)\">\n",
    "    ● دیتاهای پروژه\n",
    "    </h2>\n",
    "</div>\n",
    "<div style=\"direction:rtl\">\n",
    "    <p style=\"font-family:B Nazanin; color:rgb(102, 102, 102); font-size: 20px; text-align: right\">\n",
    "  <br>در این پروژه یک فایل با نام car_price_dataset.csv داده شده، که اطلاعات ماشین‌ها و قیمت آن ها در آن قرار دارد. \n",
    "    </p>\n",
    "</div>"
   ]
  },
  {
   "cell_type": "markdown",
   "id": "french-category",
   "metadata": {},
   "source": [
    "<div style=\"direction:rtl\">\n",
    "    <h2 style=\"font-family:B Nazanin; color:rgb(26, 26, 26)\">\n",
    "    ● قسمت اول\n",
    "    </h2>\n",
    "</div>\n",
    "<div style=\"direction:rtl\">\n",
    "    <p style=\"font-family:B Nazanin; color:rgb(102, 102, 102); font-size: 20px; text-align: right\">\n",
    "  <br> بارگیری و کاوش داده‌ها \n",
    "    </p>\n",
    "</div>"
   ]
  },
  {
   "cell_type": "code",
   "execution_count": 1,
   "id": "capital-shirt",
   "metadata": {},
   "outputs": [],
   "source": [
    "import numpy as np\n",
    "import pandas as pd\n",
    "import matplotlib.pyplot as plt"
   ]
  },
  {
   "cell_type": "code",
   "execution_count": 2,
   "id": "worldwide-saying",
   "metadata": {},
   "outputs": [],
   "source": [
    "df = pd.read_csv(\"car_price_dataset.csv\")"
   ]
  },
  {
   "cell_type": "code",
   "execution_count": 3,
   "id": "prospective-bride",
   "metadata": {},
   "outputs": [
    {
     "data": {
      "text/html": [
       "<div>\n",
       "<style scoped>\n",
       "    .dataframe tbody tr th:only-of-type {\n",
       "        vertical-align: middle;\n",
       "    }\n",
       "\n",
       "    .dataframe tbody tr th {\n",
       "        vertical-align: top;\n",
       "    }\n",
       "\n",
       "    .dataframe thead th {\n",
       "        text-align: right;\n",
       "    }\n",
       "</style>\n",
       "<table border=\"1\" class=\"dataframe\">\n",
       "  <thead>\n",
       "    <tr style=\"text-align: right;\">\n",
       "      <th></th>\n",
       "      <th>car_ID</th>\n",
       "      <th>CarName</th>\n",
       "      <th>fueltype</th>\n",
       "      <th>carlength</th>\n",
       "      <th>carwidth</th>\n",
       "      <th>carheight</th>\n",
       "      <th>curbweight</th>\n",
       "      <th>cylindernumber</th>\n",
       "      <th>enginesize</th>\n",
       "      <th>horsepower</th>\n",
       "      <th>citympg</th>\n",
       "      <th>highwaympg</th>\n",
       "      <th>price</th>\n",
       "    </tr>\n",
       "  </thead>\n",
       "  <tbody>\n",
       "    <tr>\n",
       "      <th>0</th>\n",
       "      <td>1</td>\n",
       "      <td>alfa-romero giulia</td>\n",
       "      <td>gas</td>\n",
       "      <td>168.8</td>\n",
       "      <td>64.1</td>\n",
       "      <td>48.8</td>\n",
       "      <td>2548</td>\n",
       "      <td>four</td>\n",
       "      <td>130.0</td>\n",
       "      <td>111.0</td>\n",
       "      <td>21</td>\n",
       "      <td>27</td>\n",
       "      <td>13495.0</td>\n",
       "    </tr>\n",
       "    <tr>\n",
       "      <th>1</th>\n",
       "      <td>2</td>\n",
       "      <td>alfa-romero stelvio</td>\n",
       "      <td>gas</td>\n",
       "      <td>168.8</td>\n",
       "      <td>64.1</td>\n",
       "      <td>48.8</td>\n",
       "      <td>2548</td>\n",
       "      <td>four</td>\n",
       "      <td>130.0</td>\n",
       "      <td>111.0</td>\n",
       "      <td>21</td>\n",
       "      <td>27</td>\n",
       "      <td>16500.0</td>\n",
       "    </tr>\n",
       "    <tr>\n",
       "      <th>2</th>\n",
       "      <td>3</td>\n",
       "      <td>alfa-romero Quadrifoglio</td>\n",
       "      <td>gas</td>\n",
       "      <td>171.2</td>\n",
       "      <td>65.5</td>\n",
       "      <td>52.4</td>\n",
       "      <td>2823</td>\n",
       "      <td>six</td>\n",
       "      <td>152.0</td>\n",
       "      <td>154.0</td>\n",
       "      <td>19</td>\n",
       "      <td>26</td>\n",
       "      <td>16500.0</td>\n",
       "    </tr>\n",
       "    <tr>\n",
       "      <th>3</th>\n",
       "      <td>4</td>\n",
       "      <td>audi 100 ls</td>\n",
       "      <td>gas</td>\n",
       "      <td>176.6</td>\n",
       "      <td>66.2</td>\n",
       "      <td>54.3</td>\n",
       "      <td>2337</td>\n",
       "      <td>four</td>\n",
       "      <td>109.0</td>\n",
       "      <td>NaN</td>\n",
       "      <td>24</td>\n",
       "      <td>30</td>\n",
       "      <td>13950.0</td>\n",
       "    </tr>\n",
       "    <tr>\n",
       "      <th>4</th>\n",
       "      <td>5</td>\n",
       "      <td>audi 100ls</td>\n",
       "      <td>gas</td>\n",
       "      <td>176.6</td>\n",
       "      <td>66.4</td>\n",
       "      <td>54.3</td>\n",
       "      <td>2824</td>\n",
       "      <td>five</td>\n",
       "      <td>136.0</td>\n",
       "      <td>115.0</td>\n",
       "      <td>18</td>\n",
       "      <td>22</td>\n",
       "      <td>NaN</td>\n",
       "    </tr>\n",
       "  </tbody>\n",
       "</table>\n",
       "</div>"
      ],
      "text/plain": [
       "   car_ID                   CarName fueltype  carlength  carwidth  carheight  \\\n",
       "0       1        alfa-romero giulia      gas      168.8      64.1       48.8   \n",
       "1       2       alfa-romero stelvio      gas      168.8      64.1       48.8   \n",
       "2       3  alfa-romero Quadrifoglio      gas      171.2      65.5       52.4   \n",
       "3       4               audi 100 ls      gas      176.6      66.2       54.3   \n",
       "4       5                audi 100ls      gas      176.6      66.4       54.3   \n",
       "\n",
       "   curbweight cylindernumber  enginesize  horsepower  citympg  highwaympg  \\\n",
       "0        2548           four       130.0       111.0       21          27   \n",
       "1        2548           four       130.0       111.0       21          27   \n",
       "2        2823            six       152.0       154.0       19          26   \n",
       "3        2337           four       109.0         NaN       24          30   \n",
       "4        2824           five       136.0       115.0       18          22   \n",
       "\n",
       "     price  \n",
       "0  13495.0  \n",
       "1  16500.0  \n",
       "2  16500.0  \n",
       "3  13950.0  \n",
       "4      NaN  "
      ]
     },
     "execution_count": 3,
     "metadata": {},
     "output_type": "execute_result"
    }
   ],
   "source": [
    "df.head()"
   ]
  },
  {
   "cell_type": "code",
   "execution_count": 4,
   "id": "former-sapphire",
   "metadata": {},
   "outputs": [
    {
     "data": {
      "text/html": [
       "<div>\n",
       "<style scoped>\n",
       "    .dataframe tbody tr th:only-of-type {\n",
       "        vertical-align: middle;\n",
       "    }\n",
       "\n",
       "    .dataframe tbody tr th {\n",
       "        vertical-align: top;\n",
       "    }\n",
       "\n",
       "    .dataframe thead th {\n",
       "        text-align: right;\n",
       "    }\n",
       "</style>\n",
       "<table border=\"1\" class=\"dataframe\">\n",
       "  <thead>\n",
       "    <tr style=\"text-align: right;\">\n",
       "      <th></th>\n",
       "      <th>car_ID</th>\n",
       "      <th>CarName</th>\n",
       "      <th>fueltype</th>\n",
       "      <th>carlength</th>\n",
       "      <th>carwidth</th>\n",
       "      <th>carheight</th>\n",
       "      <th>curbweight</th>\n",
       "      <th>cylindernumber</th>\n",
       "      <th>enginesize</th>\n",
       "      <th>horsepower</th>\n",
       "      <th>citympg</th>\n",
       "      <th>highwaympg</th>\n",
       "      <th>price</th>\n",
       "    </tr>\n",
       "  </thead>\n",
       "  <tbody>\n",
       "    <tr>\n",
       "      <th>200</th>\n",
       "      <td>201</td>\n",
       "      <td>volvo 145e (sw)</td>\n",
       "      <td>gas</td>\n",
       "      <td>188.8</td>\n",
       "      <td>68.9</td>\n",
       "      <td>55.5</td>\n",
       "      <td>2952</td>\n",
       "      <td>four</td>\n",
       "      <td>141.0</td>\n",
       "      <td>114.0</td>\n",
       "      <td>23</td>\n",
       "      <td>28</td>\n",
       "      <td>16845.0</td>\n",
       "    </tr>\n",
       "    <tr>\n",
       "      <th>201</th>\n",
       "      <td>202</td>\n",
       "      <td>volvo 144ea</td>\n",
       "      <td>gas</td>\n",
       "      <td>188.8</td>\n",
       "      <td>68.8</td>\n",
       "      <td>55.5</td>\n",
       "      <td>3049</td>\n",
       "      <td>four</td>\n",
       "      <td>141.0</td>\n",
       "      <td>160.0</td>\n",
       "      <td>19</td>\n",
       "      <td>25</td>\n",
       "      <td>19045.0</td>\n",
       "    </tr>\n",
       "    <tr>\n",
       "      <th>202</th>\n",
       "      <td>203</td>\n",
       "      <td>volvo 244dl</td>\n",
       "      <td>gas</td>\n",
       "      <td>188.8</td>\n",
       "      <td>68.9</td>\n",
       "      <td>55.5</td>\n",
       "      <td>3012</td>\n",
       "      <td>six</td>\n",
       "      <td>173.0</td>\n",
       "      <td>134.0</td>\n",
       "      <td>18</td>\n",
       "      <td>23</td>\n",
       "      <td>21485.0</td>\n",
       "    </tr>\n",
       "    <tr>\n",
       "      <th>203</th>\n",
       "      <td>204</td>\n",
       "      <td>volvo 246</td>\n",
       "      <td>diesel</td>\n",
       "      <td>188.8</td>\n",
       "      <td>68.9</td>\n",
       "      <td>55.5</td>\n",
       "      <td>3217</td>\n",
       "      <td>six</td>\n",
       "      <td>145.0</td>\n",
       "      <td>106.0</td>\n",
       "      <td>26</td>\n",
       "      <td>27</td>\n",
       "      <td>22470.0</td>\n",
       "    </tr>\n",
       "    <tr>\n",
       "      <th>204</th>\n",
       "      <td>205</td>\n",
       "      <td>volvo 264gl</td>\n",
       "      <td>gas</td>\n",
       "      <td>188.8</td>\n",
       "      <td>68.9</td>\n",
       "      <td>55.5</td>\n",
       "      <td>3062</td>\n",
       "      <td>four</td>\n",
       "      <td>141.0</td>\n",
       "      <td>114.0</td>\n",
       "      <td>19</td>\n",
       "      <td>25</td>\n",
       "      <td>22625.0</td>\n",
       "    </tr>\n",
       "  </tbody>\n",
       "</table>\n",
       "</div>"
      ],
      "text/plain": [
       "     car_ID          CarName fueltype  carlength  carwidth  carheight  \\\n",
       "200     201  volvo 145e (sw)      gas      188.8      68.9       55.5   \n",
       "201     202      volvo 144ea      gas      188.8      68.8       55.5   \n",
       "202     203      volvo 244dl      gas      188.8      68.9       55.5   \n",
       "203     204        volvo 246   diesel      188.8      68.9       55.5   \n",
       "204     205      volvo 264gl      gas      188.8      68.9       55.5   \n",
       "\n",
       "     curbweight cylindernumber  enginesize  horsepower  citympg  highwaympg  \\\n",
       "200        2952           four       141.0       114.0       23          28   \n",
       "201        3049           four       141.0       160.0       19          25   \n",
       "202        3012            six       173.0       134.0       18          23   \n",
       "203        3217            six       145.0       106.0       26          27   \n",
       "204        3062           four       141.0       114.0       19          25   \n",
       "\n",
       "       price  \n",
       "200  16845.0  \n",
       "201  19045.0  \n",
       "202  21485.0  \n",
       "203  22470.0  \n",
       "204  22625.0  "
      ]
     },
     "execution_count": 4,
     "metadata": {},
     "output_type": "execute_result"
    }
   ],
   "source": [
    "df.tail()"
   ]
  },
  {
   "cell_type": "code",
   "execution_count": 5,
   "id": "powerful-receptor",
   "metadata": {},
   "outputs": [
    {
     "data": {
      "text/html": [
       "<div>\n",
       "<style scoped>\n",
       "    .dataframe tbody tr th:only-of-type {\n",
       "        vertical-align: middle;\n",
       "    }\n",
       "\n",
       "    .dataframe tbody tr th {\n",
       "        vertical-align: top;\n",
       "    }\n",
       "\n",
       "    .dataframe thead th {\n",
       "        text-align: right;\n",
       "    }\n",
       "</style>\n",
       "<table border=\"1\" class=\"dataframe\">\n",
       "  <thead>\n",
       "    <tr style=\"text-align: right;\">\n",
       "      <th></th>\n",
       "      <th>car_ID</th>\n",
       "      <th>carlength</th>\n",
       "      <th>carwidth</th>\n",
       "      <th>carheight</th>\n",
       "      <th>curbweight</th>\n",
       "      <th>enginesize</th>\n",
       "      <th>horsepower</th>\n",
       "      <th>citympg</th>\n",
       "      <th>highwaympg</th>\n",
       "      <th>price</th>\n",
       "    </tr>\n",
       "  </thead>\n",
       "  <tbody>\n",
       "    <tr>\n",
       "      <th>count</th>\n",
       "      <td>205.000000</td>\n",
       "      <td>205.000000</td>\n",
       "      <td>205.000000</td>\n",
       "      <td>205.000000</td>\n",
       "      <td>205.000000</td>\n",
       "      <td>191.000000</td>\n",
       "      <td>182.000000</td>\n",
       "      <td>205.000000</td>\n",
       "      <td>205.000000</td>\n",
       "      <td>185.000000</td>\n",
       "    </tr>\n",
       "    <tr>\n",
       "      <th>mean</th>\n",
       "      <td>103.000000</td>\n",
       "      <td>174.049268</td>\n",
       "      <td>65.907805</td>\n",
       "      <td>53.724878</td>\n",
       "      <td>2555.565854</td>\n",
       "      <td>125.418848</td>\n",
       "      <td>105.747253</td>\n",
       "      <td>25.219512</td>\n",
       "      <td>30.751220</td>\n",
       "      <td>13392.181984</td>\n",
       "    </tr>\n",
       "    <tr>\n",
       "      <th>std</th>\n",
       "      <td>59.322565</td>\n",
       "      <td>12.337289</td>\n",
       "      <td>2.145204</td>\n",
       "      <td>2.443522</td>\n",
       "      <td>520.680204</td>\n",
       "      <td>39.229587</td>\n",
       "      <td>40.288214</td>\n",
       "      <td>6.542142</td>\n",
       "      <td>6.886443</td>\n",
       "      <td>8235.838288</td>\n",
       "    </tr>\n",
       "    <tr>\n",
       "      <th>min</th>\n",
       "      <td>1.000000</td>\n",
       "      <td>141.100000</td>\n",
       "      <td>60.300000</td>\n",
       "      <td>47.800000</td>\n",
       "      <td>1488.000000</td>\n",
       "      <td>61.000000</td>\n",
       "      <td>52.000000</td>\n",
       "      <td>13.000000</td>\n",
       "      <td>16.000000</td>\n",
       "      <td>5118.000000</td>\n",
       "    </tr>\n",
       "    <tr>\n",
       "      <th>25%</th>\n",
       "      <td>52.000000</td>\n",
       "      <td>166.300000</td>\n",
       "      <td>64.100000</td>\n",
       "      <td>52.000000</td>\n",
       "      <td>2145.000000</td>\n",
       "      <td>97.000000</td>\n",
       "      <td>72.250000</td>\n",
       "      <td>19.000000</td>\n",
       "      <td>25.000000</td>\n",
       "      <td>7788.000000</td>\n",
       "    </tr>\n",
       "    <tr>\n",
       "      <th>50%</th>\n",
       "      <td>103.000000</td>\n",
       "      <td>173.200000</td>\n",
       "      <td>65.500000</td>\n",
       "      <td>54.100000</td>\n",
       "      <td>2414.000000</td>\n",
       "      <td>119.000000</td>\n",
       "      <td>95.000000</td>\n",
       "      <td>24.000000</td>\n",
       "      <td>30.000000</td>\n",
       "      <td>10295.000000</td>\n",
       "    </tr>\n",
       "    <tr>\n",
       "      <th>75%</th>\n",
       "      <td>154.000000</td>\n",
       "      <td>183.100000</td>\n",
       "      <td>66.900000</td>\n",
       "      <td>55.500000</td>\n",
       "      <td>2935.000000</td>\n",
       "      <td>141.000000</td>\n",
       "      <td>121.000000</td>\n",
       "      <td>30.000000</td>\n",
       "      <td>34.000000</td>\n",
       "      <td>16503.000000</td>\n",
       "    </tr>\n",
       "    <tr>\n",
       "      <th>max</th>\n",
       "      <td>205.000000</td>\n",
       "      <td>208.100000</td>\n",
       "      <td>72.300000</td>\n",
       "      <td>59.800000</td>\n",
       "      <td>4066.000000</td>\n",
       "      <td>326.000000</td>\n",
       "      <td>288.000000</td>\n",
       "      <td>49.000000</td>\n",
       "      <td>54.000000</td>\n",
       "      <td>45400.000000</td>\n",
       "    </tr>\n",
       "  </tbody>\n",
       "</table>\n",
       "</div>"
      ],
      "text/plain": [
       "           car_ID   carlength    carwidth   carheight   curbweight  \\\n",
       "count  205.000000  205.000000  205.000000  205.000000   205.000000   \n",
       "mean   103.000000  174.049268   65.907805   53.724878  2555.565854   \n",
       "std     59.322565   12.337289    2.145204    2.443522   520.680204   \n",
       "min      1.000000  141.100000   60.300000   47.800000  1488.000000   \n",
       "25%     52.000000  166.300000   64.100000   52.000000  2145.000000   \n",
       "50%    103.000000  173.200000   65.500000   54.100000  2414.000000   \n",
       "75%    154.000000  183.100000   66.900000   55.500000  2935.000000   \n",
       "max    205.000000  208.100000   72.300000   59.800000  4066.000000   \n",
       "\n",
       "       enginesize  horsepower     citympg  highwaympg         price  \n",
       "count  191.000000  182.000000  205.000000  205.000000    185.000000  \n",
       "mean   125.418848  105.747253   25.219512   30.751220  13392.181984  \n",
       "std     39.229587   40.288214    6.542142    6.886443   8235.838288  \n",
       "min     61.000000   52.000000   13.000000   16.000000   5118.000000  \n",
       "25%     97.000000   72.250000   19.000000   25.000000   7788.000000  \n",
       "50%    119.000000   95.000000   24.000000   30.000000  10295.000000  \n",
       "75%    141.000000  121.000000   30.000000   34.000000  16503.000000  \n",
       "max    326.000000  288.000000   49.000000   54.000000  45400.000000  "
      ]
     },
     "execution_count": 5,
     "metadata": {},
     "output_type": "execute_result"
    }
   ],
   "source": [
    "df.describe()"
   ]
  },
  {
   "cell_type": "markdown",
   "id": "fantastic-presence",
   "metadata": {},
   "source": [
    "<div style=\"direction:rtl\">\n",
    "    <h2 style=\"font-family:B Nazanin; color:rgb(26, 26, 26)\">\n",
    "    ● قسمت دوم\n",
    "    </h2>\n",
    "</div>\n",
    "<div style=\"direction:rtl\">\n",
    "    <p style=\"font-family:B Nazanin; color:rgb(102, 102, 102); font-size: 20px; text-align: right\">\n",
    "  <br> تعیین نوع داده هر ستون و لیبل گذاری ستون fueltype \n",
    "    </p>\n",
    "</div>"
   ]
  },
  {
   "cell_type": "code",
   "execution_count": 6,
   "id": "worst-miller",
   "metadata": {},
   "outputs": [
    {
     "name": "stdout",
     "output_type": "stream",
     "text": [
      "<class 'pandas.core.frame.DataFrame'>\n",
      "RangeIndex: 205 entries, 0 to 204\n",
      "Data columns (total 13 columns):\n",
      " #   Column          Non-Null Count  Dtype  \n",
      "---  ------          --------------  -----  \n",
      " 0   car_ID          205 non-null    int64  \n",
      " 1   CarName         205 non-null    object \n",
      " 2   fueltype        205 non-null    object \n",
      " 3   carlength       205 non-null    float64\n",
      " 4   carwidth        205 non-null    float64\n",
      " 5   carheight       205 non-null    float64\n",
      " 6   curbweight      205 non-null    int64  \n",
      " 7   cylindernumber  205 non-null    object \n",
      " 8   enginesize      191 non-null    float64\n",
      " 9   horsepower      182 non-null    float64\n",
      " 10  citympg         205 non-null    int64  \n",
      " 11  highwaympg      205 non-null    int64  \n",
      " 12  price           185 non-null    float64\n",
      "dtypes: float64(6), int64(4), object(3)\n",
      "memory usage: 20.9+ KB\n"
     ]
    }
   ],
   "source": [
    "df.info()"
   ]
  },
  {
   "cell_type": "code",
   "execution_count": 7,
   "id": "sonic-ambassador",
   "metadata": {},
   "outputs": [
    {
     "data": {
      "text/html": [
       "<div>\n",
       "<style scoped>\n",
       "    .dataframe tbody tr th:only-of-type {\n",
       "        vertical-align: middle;\n",
       "    }\n",
       "\n",
       "    .dataframe tbody tr th {\n",
       "        vertical-align: top;\n",
       "    }\n",
       "\n",
       "    .dataframe thead th {\n",
       "        text-align: right;\n",
       "    }\n",
       "</style>\n",
       "<table border=\"1\" class=\"dataframe\">\n",
       "  <thead>\n",
       "    <tr style=\"text-align: right;\">\n",
       "      <th></th>\n",
       "      <th>car_ID</th>\n",
       "      <th>CarName</th>\n",
       "      <th>fueltype</th>\n",
       "      <th>carlength</th>\n",
       "      <th>carwidth</th>\n",
       "      <th>carheight</th>\n",
       "      <th>curbweight</th>\n",
       "      <th>cylindernumber</th>\n",
       "      <th>enginesize</th>\n",
       "      <th>horsepower</th>\n",
       "      <th>citympg</th>\n",
       "      <th>highwaympg</th>\n",
       "      <th>price</th>\n",
       "    </tr>\n",
       "  </thead>\n",
       "  <tbody>\n",
       "    <tr>\n",
       "      <th>0</th>\n",
       "      <td>1</td>\n",
       "      <td>alfa-romero giulia</td>\n",
       "      <td>0</td>\n",
       "      <td>168.8</td>\n",
       "      <td>64.1</td>\n",
       "      <td>48.8</td>\n",
       "      <td>2548</td>\n",
       "      <td>four</td>\n",
       "      <td>130.0</td>\n",
       "      <td>111.0</td>\n",
       "      <td>21</td>\n",
       "      <td>27</td>\n",
       "      <td>13495.0</td>\n",
       "    </tr>\n",
       "    <tr>\n",
       "      <th>1</th>\n",
       "      <td>2</td>\n",
       "      <td>alfa-romero stelvio</td>\n",
       "      <td>0</td>\n",
       "      <td>168.8</td>\n",
       "      <td>64.1</td>\n",
       "      <td>48.8</td>\n",
       "      <td>2548</td>\n",
       "      <td>four</td>\n",
       "      <td>130.0</td>\n",
       "      <td>111.0</td>\n",
       "      <td>21</td>\n",
       "      <td>27</td>\n",
       "      <td>16500.0</td>\n",
       "    </tr>\n",
       "    <tr>\n",
       "      <th>2</th>\n",
       "      <td>3</td>\n",
       "      <td>alfa-romero Quadrifoglio</td>\n",
       "      <td>0</td>\n",
       "      <td>171.2</td>\n",
       "      <td>65.5</td>\n",
       "      <td>52.4</td>\n",
       "      <td>2823</td>\n",
       "      <td>six</td>\n",
       "      <td>152.0</td>\n",
       "      <td>154.0</td>\n",
       "      <td>19</td>\n",
       "      <td>26</td>\n",
       "      <td>16500.0</td>\n",
       "    </tr>\n",
       "    <tr>\n",
       "      <th>3</th>\n",
       "      <td>4</td>\n",
       "      <td>audi 100 ls</td>\n",
       "      <td>0</td>\n",
       "      <td>176.6</td>\n",
       "      <td>66.2</td>\n",
       "      <td>54.3</td>\n",
       "      <td>2337</td>\n",
       "      <td>four</td>\n",
       "      <td>109.0</td>\n",
       "      <td>NaN</td>\n",
       "      <td>24</td>\n",
       "      <td>30</td>\n",
       "      <td>13950.0</td>\n",
       "    </tr>\n",
       "    <tr>\n",
       "      <th>4</th>\n",
       "      <td>5</td>\n",
       "      <td>audi 100ls</td>\n",
       "      <td>0</td>\n",
       "      <td>176.6</td>\n",
       "      <td>66.4</td>\n",
       "      <td>54.3</td>\n",
       "      <td>2824</td>\n",
       "      <td>five</td>\n",
       "      <td>136.0</td>\n",
       "      <td>115.0</td>\n",
       "      <td>18</td>\n",
       "      <td>22</td>\n",
       "      <td>NaN</td>\n",
       "    </tr>\n",
       "  </tbody>\n",
       "</table>\n",
       "</div>"
      ],
      "text/plain": [
       "   car_ID                   CarName  fueltype  carlength  carwidth  carheight  \\\n",
       "0       1        alfa-romero giulia         0      168.8      64.1       48.8   \n",
       "1       2       alfa-romero stelvio         0      168.8      64.1       48.8   \n",
       "2       3  alfa-romero Quadrifoglio         0      171.2      65.5       52.4   \n",
       "3       4               audi 100 ls         0      176.6      66.2       54.3   \n",
       "4       5                audi 100ls         0      176.6      66.4       54.3   \n",
       "\n",
       "   curbweight cylindernumber  enginesize  horsepower  citympg  highwaympg  \\\n",
       "0        2548           four       130.0       111.0       21          27   \n",
       "1        2548           four       130.0       111.0       21          27   \n",
       "2        2823            six       152.0       154.0       19          26   \n",
       "3        2337           four       109.0         NaN       24          30   \n",
       "4        2824           five       136.0       115.0       18          22   \n",
       "\n",
       "     price  \n",
       "0  13495.0  \n",
       "1  16500.0  \n",
       "2  16500.0  \n",
       "3  13950.0  \n",
       "4      NaN  "
      ]
     },
     "execution_count": 7,
     "metadata": {},
     "output_type": "execute_result"
    }
   ],
   "source": [
    "cleanup_fueltype = {\"fueltype\": {\"gas\": 0, \"diesel\": 1}}\n",
    "df = df.replace(cleanup_fueltype)\n",
    "df.head()"
   ]
  },
  {
   "cell_type": "markdown",
   "id": "genuine-multiple",
   "metadata": {},
   "source": [
    "<div style=\"direction:rtl\">\n",
    "    <h2 style=\"font-family:B Nazanin; color:rgb(26, 26, 26)\">\n",
    "    ● قسمت سوم\n",
    "    </h2>\n",
    "</div>\n",
    "<div style=\"direction:rtl\">\n",
    "    <p style=\"font-family:B Nazanin; color:rgb(102, 102, 102); font-size: 20px; text-align: right\">\n",
    "  <br> شناسایی سلول‌های بدون مقدار، جایگذاری سلول‌های بدون مقداری که در ستون price قرار ندارند با میانگین آن ستون و جدا کردن سطرهایی که ستون price آن‌ها خالی است و ذخیره آن‌ها در یک دیتافریم جدید.\n",
    "    </p>\n",
    "</div>"
   ]
  },
  {
   "cell_type": "code",
   "execution_count": 8,
   "id": "mechanical-silver",
   "metadata": {
    "scrolled": true
   },
   "outputs": [
    {
     "data": {
      "text/plain": [
       "car_ID             0\n",
       "CarName            0\n",
       "fueltype           0\n",
       "carlength          0\n",
       "carwidth           0\n",
       "carheight          0\n",
       "curbweight         0\n",
       "cylindernumber     0\n",
       "enginesize        14\n",
       "horsepower        23\n",
       "citympg            0\n",
       "highwaympg         0\n",
       "price             20\n",
       "dtype: int64"
      ]
     },
     "execution_count": 8,
     "metadata": {},
     "output_type": "execute_result"
    }
   ],
   "source": [
    "df.isna().sum()"
   ]
  },
  {
   "cell_type": "code",
   "execution_count": 9,
   "id": "thick-forwarding",
   "metadata": {},
   "outputs": [
    {
     "data": {
      "text/plain": [
       "car_ID             0\n",
       "CarName            0\n",
       "fueltype           0\n",
       "carlength          0\n",
       "carwidth           0\n",
       "carheight          0\n",
       "curbweight         0\n",
       "cylindernumber     0\n",
       "enginesize         0\n",
       "horsepower         0\n",
       "citympg            0\n",
       "highwaympg         0\n",
       "price             20\n",
       "dtype: int64"
      ]
     },
     "execution_count": 9,
     "metadata": {},
     "output_type": "execute_result"
    }
   ],
   "source": [
    "price = df['price']\n",
    "df.drop('price', axis = 1, inplace = True)\n",
    "df.fillna(df.mean(), inplace = True)\n",
    "df['price'] = price\n",
    "df.isna().sum()"
   ]
  },
  {
   "cell_type": "code",
   "execution_count": 10,
   "id": "binding-knock",
   "metadata": {},
   "outputs": [
    {
     "name": "stdout",
     "output_type": "stream",
     "text": [
      "<class 'pandas.core.frame.DataFrame'>\n",
      "RangeIndex: 205 entries, 0 to 204\n",
      "Data columns (total 13 columns):\n",
      " #   Column          Non-Null Count  Dtype  \n",
      "---  ------          --------------  -----  \n",
      " 0   car_ID          205 non-null    int64  \n",
      " 1   CarName         205 non-null    object \n",
      " 2   fueltype        205 non-null    int64  \n",
      " 3   carlength       205 non-null    float64\n",
      " 4   carwidth        205 non-null    float64\n",
      " 5   carheight       205 non-null    float64\n",
      " 6   curbweight      205 non-null    int64  \n",
      " 7   cylindernumber  205 non-null    object \n",
      " 8   enginesize      205 non-null    float64\n",
      " 9   horsepower      205 non-null    float64\n",
      " 10  citympg         205 non-null    int64  \n",
      " 11  highwaympg      205 non-null    int64  \n",
      " 12  price           185 non-null    float64\n",
      "dtypes: float64(6), int64(5), object(2)\n",
      "memory usage: 20.9+ KB\n"
     ]
    }
   ],
   "source": [
    "df.info()"
   ]
  },
  {
   "cell_type": "code",
   "execution_count": 11,
   "id": "statewide-artwork",
   "metadata": {},
   "outputs": [
    {
     "data": {
      "text/html": [
       "<div>\n",
       "<style scoped>\n",
       "    .dataframe tbody tr th:only-of-type {\n",
       "        vertical-align: middle;\n",
       "    }\n",
       "\n",
       "    .dataframe tbody tr th {\n",
       "        vertical-align: top;\n",
       "    }\n",
       "\n",
       "    .dataframe thead th {\n",
       "        text-align: right;\n",
       "    }\n",
       "</style>\n",
       "<table border=\"1\" class=\"dataframe\">\n",
       "  <thead>\n",
       "    <tr style=\"text-align: right;\">\n",
       "      <th></th>\n",
       "      <th>car_ID</th>\n",
       "      <th>CarName</th>\n",
       "      <th>fueltype</th>\n",
       "      <th>carlength</th>\n",
       "      <th>carwidth</th>\n",
       "      <th>carheight</th>\n",
       "      <th>curbweight</th>\n",
       "      <th>cylindernumber</th>\n",
       "      <th>enginesize</th>\n",
       "      <th>horsepower</th>\n",
       "      <th>citympg</th>\n",
       "      <th>highwaympg</th>\n",
       "      <th>price</th>\n",
       "    </tr>\n",
       "  </thead>\n",
       "  <tbody>\n",
       "    <tr>\n",
       "      <th>4</th>\n",
       "      <td>5</td>\n",
       "      <td>audi 100ls</td>\n",
       "      <td>0</td>\n",
       "      <td>176.6</td>\n",
       "      <td>66.4</td>\n",
       "      <td>54.3</td>\n",
       "      <td>2824</td>\n",
       "      <td>five</td>\n",
       "      <td>136.000000</td>\n",
       "      <td>115.0</td>\n",
       "      <td>18</td>\n",
       "      <td>22</td>\n",
       "      <td>NaN</td>\n",
       "    </tr>\n",
       "    <tr>\n",
       "      <th>29</th>\n",
       "      <td>30</td>\n",
       "      <td>dodge coronet custom (sw)</td>\n",
       "      <td>0</td>\n",
       "      <td>173.2</td>\n",
       "      <td>66.3</td>\n",
       "      <td>50.2</td>\n",
       "      <td>2811</td>\n",
       "      <td>four</td>\n",
       "      <td>156.000000</td>\n",
       "      <td>145.0</td>\n",
       "      <td>19</td>\n",
       "      <td>24</td>\n",
       "      <td>NaN</td>\n",
       "    </tr>\n",
       "    <tr>\n",
       "      <th>31</th>\n",
       "      <td>32</td>\n",
       "      <td>honda civic cvcc</td>\n",
       "      <td>0</td>\n",
       "      <td>144.6</td>\n",
       "      <td>63.9</td>\n",
       "      <td>50.8</td>\n",
       "      <td>1819</td>\n",
       "      <td>four</td>\n",
       "      <td>92.000000</td>\n",
       "      <td>76.0</td>\n",
       "      <td>31</td>\n",
       "      <td>38</td>\n",
       "      <td>NaN</td>\n",
       "    </tr>\n",
       "    <tr>\n",
       "      <th>52</th>\n",
       "      <td>53</td>\n",
       "      <td>mazda rx2 coupe</td>\n",
       "      <td>0</td>\n",
       "      <td>159.1</td>\n",
       "      <td>64.2</td>\n",
       "      <td>54.1</td>\n",
       "      <td>1905</td>\n",
       "      <td>four</td>\n",
       "      <td>91.000000</td>\n",
       "      <td>68.0</td>\n",
       "      <td>31</td>\n",
       "      <td>38</td>\n",
       "      <td>NaN</td>\n",
       "    </tr>\n",
       "    <tr>\n",
       "      <th>53</th>\n",
       "      <td>54</td>\n",
       "      <td>mazda rx-4</td>\n",
       "      <td>0</td>\n",
       "      <td>166.8</td>\n",
       "      <td>64.2</td>\n",
       "      <td>54.1</td>\n",
       "      <td>1945</td>\n",
       "      <td>four</td>\n",
       "      <td>91.000000</td>\n",
       "      <td>68.0</td>\n",
       "      <td>31</td>\n",
       "      <td>38</td>\n",
       "      <td>NaN</td>\n",
       "    </tr>\n",
       "    <tr>\n",
       "      <th>59</th>\n",
       "      <td>60</td>\n",
       "      <td>mazda 626</td>\n",
       "      <td>0</td>\n",
       "      <td>177.8</td>\n",
       "      <td>66.5</td>\n",
       "      <td>53.7</td>\n",
       "      <td>2385</td>\n",
       "      <td>four</td>\n",
       "      <td>122.000000</td>\n",
       "      <td>84.0</td>\n",
       "      <td>26</td>\n",
       "      <td>32</td>\n",
       "      <td>NaN</td>\n",
       "    </tr>\n",
       "    <tr>\n",
       "      <th>62</th>\n",
       "      <td>63</td>\n",
       "      <td>mazda rx-4</td>\n",
       "      <td>0</td>\n",
       "      <td>177.8</td>\n",
       "      <td>66.5</td>\n",
       "      <td>55.5</td>\n",
       "      <td>2410</td>\n",
       "      <td>four</td>\n",
       "      <td>122.000000</td>\n",
       "      <td>84.0</td>\n",
       "      <td>26</td>\n",
       "      <td>32</td>\n",
       "      <td>NaN</td>\n",
       "    </tr>\n",
       "    <tr>\n",
       "      <th>67</th>\n",
       "      <td>68</td>\n",
       "      <td>buick electra 225 custom</td>\n",
       "      <td>1</td>\n",
       "      <td>190.9</td>\n",
       "      <td>70.3</td>\n",
       "      <td>56.5</td>\n",
       "      <td>3515</td>\n",
       "      <td>five</td>\n",
       "      <td>183.000000</td>\n",
       "      <td>123.0</td>\n",
       "      <td>22</td>\n",
       "      <td>25</td>\n",
       "      <td>NaN</td>\n",
       "    </tr>\n",
       "    <tr>\n",
       "      <th>78</th>\n",
       "      <td>79</td>\n",
       "      <td>mitsubishi outlander</td>\n",
       "      <td>0</td>\n",
       "      <td>157.3</td>\n",
       "      <td>64.4</td>\n",
       "      <td>50.8</td>\n",
       "      <td>2004</td>\n",
       "      <td>four</td>\n",
       "      <td>92.000000</td>\n",
       "      <td>68.0</td>\n",
       "      <td>31</td>\n",
       "      <td>38</td>\n",
       "      <td>NaN</td>\n",
       "    </tr>\n",
       "    <tr>\n",
       "      <th>84</th>\n",
       "      <td>85</td>\n",
       "      <td>mitsubishi mirage g4</td>\n",
       "      <td>0</td>\n",
       "      <td>173.2</td>\n",
       "      <td>66.3</td>\n",
       "      <td>50.2</td>\n",
       "      <td>2926</td>\n",
       "      <td>four</td>\n",
       "      <td>156.000000</td>\n",
       "      <td>145.0</td>\n",
       "      <td>19</td>\n",
       "      <td>24</td>\n",
       "      <td>NaN</td>\n",
       "    </tr>\n",
       "    <tr>\n",
       "      <th>87</th>\n",
       "      <td>88</td>\n",
       "      <td>mitsubishi outlander</td>\n",
       "      <td>0</td>\n",
       "      <td>172.4</td>\n",
       "      <td>65.4</td>\n",
       "      <td>51.6</td>\n",
       "      <td>2403</td>\n",
       "      <td>four</td>\n",
       "      <td>110.000000</td>\n",
       "      <td>116.0</td>\n",
       "      <td>23</td>\n",
       "      <td>30</td>\n",
       "      <td>NaN</td>\n",
       "    </tr>\n",
       "    <tr>\n",
       "      <th>88</th>\n",
       "      <td>89</td>\n",
       "      <td>mitsubishi mirage g4</td>\n",
       "      <td>0</td>\n",
       "      <td>172.4</td>\n",
       "      <td>65.4</td>\n",
       "      <td>51.6</td>\n",
       "      <td>2403</td>\n",
       "      <td>four</td>\n",
       "      <td>110.000000</td>\n",
       "      <td>116.0</td>\n",
       "      <td>23</td>\n",
       "      <td>30</td>\n",
       "      <td>NaN</td>\n",
       "    </tr>\n",
       "    <tr>\n",
       "      <th>104</th>\n",
       "      <td>105</td>\n",
       "      <td>nissan teana</td>\n",
       "      <td>0</td>\n",
       "      <td>170.7</td>\n",
       "      <td>67.9</td>\n",
       "      <td>49.7</td>\n",
       "      <td>3071</td>\n",
       "      <td>six</td>\n",
       "      <td>181.000000</td>\n",
       "      <td>160.0</td>\n",
       "      <td>19</td>\n",
       "      <td>25</td>\n",
       "      <td>NaN</td>\n",
       "    </tr>\n",
       "    <tr>\n",
       "      <th>123</th>\n",
       "      <td>124</td>\n",
       "      <td>plymouth valiant</td>\n",
       "      <td>0</td>\n",
       "      <td>174.6</td>\n",
       "      <td>64.6</td>\n",
       "      <td>59.8</td>\n",
       "      <td>2535</td>\n",
       "      <td>four</td>\n",
       "      <td>122.000000</td>\n",
       "      <td>88.0</td>\n",
       "      <td>24</td>\n",
       "      <td>30</td>\n",
       "      <td>NaN</td>\n",
       "    </tr>\n",
       "    <tr>\n",
       "      <th>136</th>\n",
       "      <td>137</td>\n",
       "      <td>saab 99gle</td>\n",
       "      <td>0</td>\n",
       "      <td>186.6</td>\n",
       "      <td>66.5</td>\n",
       "      <td>56.1</td>\n",
       "      <td>2808</td>\n",
       "      <td>four</td>\n",
       "      <td>125.418848</td>\n",
       "      <td>160.0</td>\n",
       "      <td>19</td>\n",
       "      <td>26</td>\n",
       "      <td>NaN</td>\n",
       "    </tr>\n",
       "    <tr>\n",
       "      <th>137</th>\n",
       "      <td>138</td>\n",
       "      <td>saab 99e</td>\n",
       "      <td>0</td>\n",
       "      <td>186.6</td>\n",
       "      <td>66.5</td>\n",
       "      <td>56.1</td>\n",
       "      <td>2847</td>\n",
       "      <td>four</td>\n",
       "      <td>121.000000</td>\n",
       "      <td>160.0</td>\n",
       "      <td>19</td>\n",
       "      <td>26</td>\n",
       "      <td>NaN</td>\n",
       "    </tr>\n",
       "    <tr>\n",
       "      <th>141</th>\n",
       "      <td>142</td>\n",
       "      <td>subaru</td>\n",
       "      <td>0</td>\n",
       "      <td>172.0</td>\n",
       "      <td>65.4</td>\n",
       "      <td>52.5</td>\n",
       "      <td>2145</td>\n",
       "      <td>four</td>\n",
       "      <td>108.000000</td>\n",
       "      <td>82.0</td>\n",
       "      <td>32</td>\n",
       "      <td>37</td>\n",
       "      <td>NaN</td>\n",
       "    </tr>\n",
       "    <tr>\n",
       "      <th>149</th>\n",
       "      <td>150</td>\n",
       "      <td>subaru dl</td>\n",
       "      <td>0</td>\n",
       "      <td>173.6</td>\n",
       "      <td>65.4</td>\n",
       "      <td>54.9</td>\n",
       "      <td>2650</td>\n",
       "      <td>four</td>\n",
       "      <td>108.000000</td>\n",
       "      <td>111.0</td>\n",
       "      <td>23</td>\n",
       "      <td>23</td>\n",
       "      <td>NaN</td>\n",
       "    </tr>\n",
       "    <tr>\n",
       "      <th>181</th>\n",
       "      <td>182</td>\n",
       "      <td>toyouta tercel</td>\n",
       "      <td>0</td>\n",
       "      <td>187.8</td>\n",
       "      <td>66.5</td>\n",
       "      <td>54.1</td>\n",
       "      <td>3151</td>\n",
       "      <td>six</td>\n",
       "      <td>161.000000</td>\n",
       "      <td>156.0</td>\n",
       "      <td>19</td>\n",
       "      <td>24</td>\n",
       "      <td>NaN</td>\n",
       "    </tr>\n",
       "    <tr>\n",
       "      <th>189</th>\n",
       "      <td>190</td>\n",
       "      <td>vw dasher</td>\n",
       "      <td>0</td>\n",
       "      <td>159.3</td>\n",
       "      <td>64.2</td>\n",
       "      <td>55.6</td>\n",
       "      <td>2254</td>\n",
       "      <td>four</td>\n",
       "      <td>109.000000</td>\n",
       "      <td>90.0</td>\n",
       "      <td>24</td>\n",
       "      <td>29</td>\n",
       "      <td>NaN</td>\n",
       "    </tr>\n",
       "  </tbody>\n",
       "</table>\n",
       "</div>"
      ],
      "text/plain": [
       "     car_ID                    CarName  fueltype  carlength  carwidth  \\\n",
       "4         5                 audi 100ls         0      176.6      66.4   \n",
       "29       30  dodge coronet custom (sw)         0      173.2      66.3   \n",
       "31       32           honda civic cvcc         0      144.6      63.9   \n",
       "52       53            mazda rx2 coupe         0      159.1      64.2   \n",
       "53       54                 mazda rx-4         0      166.8      64.2   \n",
       "59       60                  mazda 626         0      177.8      66.5   \n",
       "62       63                 mazda rx-4         0      177.8      66.5   \n",
       "67       68   buick electra 225 custom         1      190.9      70.3   \n",
       "78       79       mitsubishi outlander         0      157.3      64.4   \n",
       "84       85       mitsubishi mirage g4         0      173.2      66.3   \n",
       "87       88       mitsubishi outlander         0      172.4      65.4   \n",
       "88       89       mitsubishi mirage g4         0      172.4      65.4   \n",
       "104     105               nissan teana         0      170.7      67.9   \n",
       "123     124           plymouth valiant         0      174.6      64.6   \n",
       "136     137                 saab 99gle         0      186.6      66.5   \n",
       "137     138                   saab 99e         0      186.6      66.5   \n",
       "141     142                     subaru         0      172.0      65.4   \n",
       "149     150                  subaru dl         0      173.6      65.4   \n",
       "181     182             toyouta tercel         0      187.8      66.5   \n",
       "189     190                  vw dasher         0      159.3      64.2   \n",
       "\n",
       "     carheight  curbweight cylindernumber  enginesize  horsepower  citympg  \\\n",
       "4         54.3        2824           five  136.000000       115.0       18   \n",
       "29        50.2        2811           four  156.000000       145.0       19   \n",
       "31        50.8        1819           four   92.000000        76.0       31   \n",
       "52        54.1        1905           four   91.000000        68.0       31   \n",
       "53        54.1        1945           four   91.000000        68.0       31   \n",
       "59        53.7        2385           four  122.000000        84.0       26   \n",
       "62        55.5        2410           four  122.000000        84.0       26   \n",
       "67        56.5        3515           five  183.000000       123.0       22   \n",
       "78        50.8        2004           four   92.000000        68.0       31   \n",
       "84        50.2        2926           four  156.000000       145.0       19   \n",
       "87        51.6        2403           four  110.000000       116.0       23   \n",
       "88        51.6        2403           four  110.000000       116.0       23   \n",
       "104       49.7        3071            six  181.000000       160.0       19   \n",
       "123       59.8        2535           four  122.000000        88.0       24   \n",
       "136       56.1        2808           four  125.418848       160.0       19   \n",
       "137       56.1        2847           four  121.000000       160.0       19   \n",
       "141       52.5        2145           four  108.000000        82.0       32   \n",
       "149       54.9        2650           four  108.000000       111.0       23   \n",
       "181       54.1        3151            six  161.000000       156.0       19   \n",
       "189       55.6        2254           four  109.000000        90.0       24   \n",
       "\n",
       "     highwaympg  price  \n",
       "4            22    NaN  \n",
       "29           24    NaN  \n",
       "31           38    NaN  \n",
       "52           38    NaN  \n",
       "53           38    NaN  \n",
       "59           32    NaN  \n",
       "62           32    NaN  \n",
       "67           25    NaN  \n",
       "78           38    NaN  \n",
       "84           24    NaN  \n",
       "87           30    NaN  \n",
       "88           30    NaN  \n",
       "104          25    NaN  \n",
       "123          30    NaN  \n",
       "136          26    NaN  \n",
       "137          26    NaN  \n",
       "141          37    NaN  \n",
       "149          23    NaN  \n",
       "181          24    NaN  \n",
       "189          29    NaN  "
      ]
     },
     "execution_count": 11,
     "metadata": {},
     "output_type": "execute_result"
    }
   ],
   "source": [
    "new_df = df[df['price'].isna()]\n",
    "new_df"
   ]
  },
  {
   "cell_type": "code",
   "execution_count": 12,
   "id": "anonymous-album",
   "metadata": {},
   "outputs": [
    {
     "data": {
      "text/plain": [
       "car_ID            0\n",
       "CarName           0\n",
       "fueltype          0\n",
       "carlength         0\n",
       "carwidth          0\n",
       "carheight         0\n",
       "curbweight        0\n",
       "cylindernumber    0\n",
       "enginesize        0\n",
       "horsepower        0\n",
       "citympg           0\n",
       "highwaympg        0\n",
       "price             0\n",
       "dtype: int64"
      ]
     },
     "execution_count": 12,
     "metadata": {},
     "output_type": "execute_result"
    }
   ],
   "source": [
    "df = df.dropna()\n",
    "df.isna().sum()"
   ]
  },
  {
   "cell_type": "markdown",
   "id": "increased-accordance",
   "metadata": {},
   "source": [
    "<div style=\"direction:rtl\">\n",
    "    <h2 style=\"font-family:B Nazanin; color:rgb(26, 26, 26)\">\n",
    "    ● قسمت چهارم\n",
    "    </h2>\n",
    "</div>\n",
    "<div style=\"direction:rtl\">\n",
    "    <p style=\"font-family:B Nazanin; color:rgb(102, 102, 102); font-size: 20px; text-align: right\">\n",
    "  <br> نمایش تعداد خودروها بر حسب تعداد سیلندر آن‌ها \n",
    "    </p>\n",
    "</div>"
   ]
  },
  {
   "cell_type": "code",
   "execution_count": 13,
   "id": "provincial-belarus",
   "metadata": {},
   "outputs": [
    {
     "data": {
      "text/plain": [
       "four      143\n",
       "six        22\n",
       "five        9\n",
       "eight       5\n",
       "two         4\n",
       "twelve      1\n",
       "three       1\n",
       "Name: cylindernumber, dtype: int64"
      ]
     },
     "execution_count": 13,
     "metadata": {},
     "output_type": "execute_result"
    }
   ],
   "source": [
    "df['cylindernumber'].value_counts()"
   ]
  },
  {
   "cell_type": "markdown",
   "id": "intended-casting",
   "metadata": {},
   "source": [
    "<div style=\"direction:rtl\">\n",
    "    <h2 style=\"font-family:B Nazanin; color:rgb(26, 26, 26)\">\n",
    "    ● قسمت پنجم\n",
    "    </h2>\n",
    "</div>\n",
    "<div style=\"direction:rtl\">\n",
    "    <p style=\"font-family:B Nazanin; color:rgb(102, 102, 102); font-size: 20px; text-align: right\">\n",
    "  <br> تعداد خودروهایی که نوع سوختشان gas است، قدرت اسب بخارشان از 100 بیشتر است و citympg آن‌ها از 15 کمتر است. \n",
    "    </p>\n",
    "</div>"
   ]
  },
  {
   "cell_type": "code",
   "execution_count": 14,
   "id": "roman-royalty",
   "metadata": {},
   "outputs": [
    {
     "name": "stdout",
     "output_type": "stream",
     "text": [
      "The number of cars with those three conditions are:  3\n"
     ]
    }
   ],
   "source": [
    "num_three_cond = len(df.loc[(df['fueltype'] == 0) & (df['horsepower'] > 100) & (df['citympg'] < 15)].index)\n",
    "print(\"The number of cars with those three conditions are: \", num_three_cond)"
   ]
  },
  {
   "cell_type": "markdown",
   "id": "harmful-demographic",
   "metadata": {},
   "source": [
    "<div style=\"direction:rtl\">\n",
    "    <h2 style=\"font-family:B Nazanin; color:rgb(26, 26, 26)\">\n",
    "    ● قسمت ششم و هفتم\n",
    "    </h2>\n",
    "</div>\n",
    "<div style=\"direction:rtl\">\n",
    "    <p style=\"font-family:B Nazanin; color:rgb(102, 102, 102); font-size: 20px; text-align: right\">\n",
    "  <br> محاسبه میانگین قیمت‌های خودروهای بنزینی و گازی با استفاده از دو روش vectorization و loop.\n",
    "        قابل مشاهده است که به طرز محسوسی استفاده از متدهای vectorization، در سرعت اجرا تاثیرگزار است؛ روش اول تقریبا 30 برابر سریعتر است.\n",
    "    </p>\n",
    "</div>"
   ]
  },
  {
   "cell_type": "code",
   "execution_count": 15,
   "id": "educated-murray",
   "metadata": {},
   "outputs": [
    {
     "name": "stdout",
     "output_type": "stream",
     "text": [
      "Average price for cars with gas fueltype: 13170.738957831325\n",
      "Average price for cars with diesel fueltype: 15326.894736842105\n",
      "Time taken with Vec: 0.0 ms\n",
      "\n",
      "Average price for cars with gas fueltype: 13170.738957831325\n",
      "Average price for cars with diesel fueltype: 15326.894736842105\n",
      "Time taken with Non-Vec: 121.37985229492188 ms\n"
     ]
    }
   ],
   "source": [
    "import time\n",
    "\n",
    "tic = time.time()\n",
    "print(\"Average price for cars with gas fueltype:\", df.loc[df['fueltype'] == 0, 'price'].mean())\n",
    "print(\"Average price for cars with diesel fueltype:\", df.loc[df['fueltype'] == 1, 'price'].mean())\n",
    "toc = time.time()\n",
    "print(\"Time taken with Vec:\", (toc - tic) * 1000, \"ms\")\n",
    "\n",
    "print()\n",
    "\n",
    "tic = time.time()\n",
    "gas_price = 0\n",
    "gas_count = 0\n",
    "diesel_price = 0\n",
    "diesel_count = 0\n",
    "for i in range(len(df)):\n",
    "    if df.iloc[i]['fueltype'] == 1:\n",
    "        diesel_price += df.iloc[i]['price']\n",
    "        diesel_count += 1\n",
    "    elif df.iloc[i]['fueltype'] == 0:\n",
    "        gas_price += df.iloc[i]['price']\n",
    "        gas_count += 1\n",
    "        \n",
    "print(\"Average price for cars with gas fueltype:\", gas_price / gas_count)\n",
    "print(\"Average price for cars with diesel fueltype:\", diesel_price / diesel_count)        \n",
    "toc = time.time()\n",
    "\n",
    "print(\"Time taken with Non-Vec:\", (toc - tic) * 1000, \"ms\")"
   ]
  },
  {
   "cell_type": "markdown",
   "id": "blank-truck",
   "metadata": {},
   "source": [
    "<div style=\"direction:rtl\">\n",
    "    <h2 style=\"font-family:B Nazanin; color:rgb(26, 26, 26)\">\n",
    "    ● قسمت هشتم\n",
    "    </h2>\n",
    "</div>\n",
    "<div style=\"direction:rtl\">\n",
    "    <p style=\"font-family:B Nazanin; color:rgb(102, 102, 102); font-size: 20px; text-align: right\">\n",
    "  <br> رسم نمودار هیستوگرام ستون‌های با مقدار عددی. \n",
    "    </p>\n",
    "</div>"
   ]
  },
  {
   "cell_type": "code",
   "execution_count": 16,
   "id": "combined-zoning",
   "metadata": {},
   "outputs": [
    {
     "data": {
      "text/plain": [
       "array([[<AxesSubplot:title={'center':'carlength'}>,\n",
       "        <AxesSubplot:title={'center':'carwidth'}>,\n",
       "        <AxesSubplot:title={'center':'carheight'}>],\n",
       "       [<AxesSubplot:title={'center':'curbweight'}>,\n",
       "        <AxesSubplot:title={'center':'enginesize'}>,\n",
       "        <AxesSubplot:title={'center':'horsepower'}>],\n",
       "       [<AxesSubplot:title={'center':'citympg'}>,\n",
       "        <AxesSubplot:title={'center':'highwaympg'}>,\n",
       "        <AxesSubplot:title={'center':'price'}>]], dtype=object)"
      ]
     },
     "execution_count": 16,
     "metadata": {},
     "output_type": "execute_result"
    },
    {
     "data": {
      "image/png": "[encoded data removed]",
      "text/plain": [
       "<Figure size 1440x1440 with 9 Axes>"
      ]
     },
     "metadata": {
      "needs_background": "light"
     },
     "output_type": "display_data"
    }
   ],
   "source": [
    "columns = ['carlength', 'carwidth', 'carheight', 'curbweight', 'enginesize', 'horsepower', 'citympg', 'highwaympg', 'price']\n",
    "df.hist(column = columns, figsize = (20, 20))"
   ]
  },
  {
   "cell_type": "markdown",
   "id": "national-asian",
   "metadata": {},
   "source": [
    "<div style=\"direction:rtl\">\n",
    "    <h2 style=\"font-family:B Nazanin; color:rgb(26, 26, 26)\">\n",
    "    ● قسمت نهم\n",
    "    </h2>\n",
    "</div>\n",
    "<div style=\"direction:rtl\">\n",
    "    <p style=\"font-family:B Nazanin; color:rgb(102, 102, 102); font-size: 20px; text-align: right\">\n",
    "  <br> نرمالسازی داده‌ها. \n",
    "    </p>\n",
    "</div>"
   ]
  },
  {
   "cell_type": "code",
   "execution_count": 17,
   "id": "backed-paradise",
   "metadata": {},
   "outputs": [],
   "source": [
    "df['price'] = np.divide(np.subtract(df['price'], df['price'].mean()), df['price'].std())"
   ]
  },
  {
   "cell_type": "markdown",
   "id": "bigger-ranking",
   "metadata": {},
   "source": [
    "<div style=\"direction:rtl\">\n",
    "    <h2 style=\"font-family:B Nazanin; color:rgb(26, 26, 26)\">\n",
    "    ● قسمت دهم - الف\n",
    "    </h2>\n",
    "</div>\n",
    "<div style=\"direction:rtl\">\n",
    "    <p style=\"font-family:B Nazanin; color:rgb(102, 102, 102); font-size: 20px; text-align: right\">\n",
    "  <br>رسم نمودار scatter قیمت به ازای هر ویژگی \n",
    "    </p>\n",
    "</div>"
   ]
  },
  {
   "cell_type": "code",
   "execution_count": 18,
   "id": "beautiful-integral",
   "metadata": {},
   "outputs": [
    {
     "data": {
      "text/plain": [
       "Text(0, 0.5, 'price')"
      ]
     },
     "execution_count": 18,
     "metadata": {},
     "output_type": "execute_result"
    },
    {
     "data": {
      "image/png": "[encoded data removed]",
      "text/plain": [
       "<Figure size 432x288 with 1 Axes>"
      ]
     },
     "metadata": {
      "needs_background": "light"
     },
     "output_type": "display_data"
    }
   ],
   "source": [
    "plt.plot(df['carlength'], df['price'], 'o', color='red')\n",
    "plt.xlabel('carlength')\n",
    "plt.ylabel('price')"
   ]
  },
  {
   "cell_type": "code",
   "execution_count": 19,
   "id": "tropical-moscow",
   "metadata": {},
   "outputs": [
    {
     "data": {
      "text/plain": [
       "Text(0, 0.5, 'price')"
      ]
     },
     "execution_count": 19,
     "metadata": {},
     "output_type": "execute_result"
    },
    {
     "data": {
      "image/png": "[encoded data removed]",
      "text/plain": [
       "<Figure size 432x288 with 1 Axes>"
      ]
     },
     "metadata": {
      "needs_background": "light"
     },
     "output_type": "display_data"
    }
   ],
   "source": [
    "plt.plot(df['carwidth'], df['price'], 'o', color='blue')\n",
    "plt.xlabel('carwidth')\n",
    "plt.ylabel('price')"
   ]
  },
  {
   "cell_type": "code",
   "execution_count": 20,
   "id": "criminal-serbia",
   "metadata": {},
   "outputs": [
    {
     "data": {
      "text/plain": [
       "Text(0, 0.5, 'price')"
      ]
     },
     "execution_count": 20,
     "metadata": {},
     "output_type": "execute_result"
    },
    {
     "data": {
      "image/png": "[encoded data removed]",
      "text/plain": [
       "<Figure size 432x288 with 1 Axes>"
      ]
     },
     "metadata": {
      "needs_background": "light"
     },
     "output_type": "display_data"
    }
   ],
   "source": [
    "plt.plot(df['carheight'], df['price'], 'o', color='green')\n",
    "plt.xlabel('carheight')\n",
    "plt.ylabel('price')"
   ]
  },
  {
   "cell_type": "code",
   "execution_count": 21,
   "id": "saved-harris",
   "metadata": {},
   "outputs": [
    {
     "data": {
      "text/plain": [
       "Text(0, 0.5, 'price')"
      ]
     },
     "execution_count": 21,
     "metadata": {},
     "output_type": "execute_result"
    },
    {
     "data": {
      "image/png": "[encoded data removed]",
      "text/plain": [
       "<Figure size 432x288 with 1 Axes>"
      ]
     },
     "metadata": {
      "needs_background": "light"
     },
     "output_type": "display_data"
    }
   ],
   "source": [
    "plt.plot(df['curbweight'], df['price'], 'o', color='purple')\n",
    "plt.xlabel('curbweight')\n",
    "plt.ylabel('price')"
   ]
  },
  {
   "cell_type": "code",
   "execution_count": 22,
   "id": "opposed-soccer",
   "metadata": {},
   "outputs": [
    {
     "data": {
      "text/plain": [
       "Text(0, 0.5, 'price')"
      ]
     },
     "execution_count": 22,
     "metadata": {},
     "output_type": "execute_result"
    },
    {
     "data": {
      "image/png": "[encoded data removed]",
      "text/plain": [
       "<Figure size 432x288 with 1 Axes>"
      ]
     },
     "metadata": {
      "needs_background": "light"
     },
     "output_type": "display_data"
    }
   ],
   "source": [
    "plt.plot(df['enginesize'], df['price'], 'o', color='gold')\n",
    "plt.xlabel('enginesize')\n",
    "plt.ylabel('price')"
   ]
  },
  {
   "cell_type": "code",
   "execution_count": 23,
   "id": "handled-freeware",
   "metadata": {},
   "outputs": [
    {
     "data": {
      "text/plain": [
       "Text(0, 0.5, 'price')"
      ]
     },
     "execution_count": 23,
     "metadata": {},
     "output_type": "execute_result"
    },
    {
     "data": {
      "image/png": "[encoded data removed]",
      "text/plain": [
       "<Figure size 432x288 with 1 Axes>"
      ]
     },
     "metadata": {
      "needs_background": "light"
     },
     "output_type": "display_data"
    }
   ],
   "source": [
    "plt.plot(df['horsepower'], df['price'], 'o', color='pink')\n",
    "plt.xlabel('horsepower')\n",
    "plt.ylabel('price')"
   ]
  },
  {
   "cell_type": "code",
   "execution_count": 24,
   "id": "preliminary-mystery",
   "metadata": {},
   "outputs": [
    {
     "data": {
      "text/plain": [
       "Text(0, 0.5, 'price')"
      ]
     },
     "execution_count": 24,
     "metadata": {},
     "output_type": "execute_result"
    },
    {
     "data": {
      "image/png": "[encoded data removed]",
      "text/plain": [
       "<Figure size 432x288 with 1 Axes>"
      ]
     },
     "metadata": {
      "needs_background": "light"
     },
     "output_type": "display_data"
    }
   ],
   "source": [
    "plt.plot(df['citympg'], df['price'], 'o', color='brown')\n",
    "plt.xlabel('citympg')\n",
    "plt.ylabel('price')"
   ]
  },
  {
   "cell_type": "code",
   "execution_count": 25,
   "id": "hispanic-medication",
   "metadata": {},
   "outputs": [
    {
     "data": {
      "text/plain": [
       "Text(0, 0.5, 'price')"
      ]
     },
     "execution_count": 25,
     "metadata": {},
     "output_type": "execute_result"
    },
    {
     "data": {
      "image/png": "[encoded data removed]",
      "text/plain": [
       "<Figure size 432x288 with 1 Axes>"
      ]
     },
     "metadata": {
      "needs_background": "light"
     },
     "output_type": "display_data"
    }
   ],
   "source": [
    "plt.plot(df['highwaympg'], df['price'], 'o', color='cadetblue')\n",
    "plt.xlabel('highwaympg')\n",
    "plt.ylabel('price')"
   ]
  },
  {
   "cell_type": "markdown",
   "id": "satisfactory-gazette",
   "metadata": {},
   "source": [
    "<div style=\"direction:rtl\">\n",
    "    <h2 style=\"font-family:B Nazanin; color:rgb(26, 26, 26)\">\n",
    "    ● قسمت دهم - ب\n",
    "    </h2>\n",
    "</div>\n",
    "<div style=\"direction:rtl\">\n",
    "    <p style=\"font-family:B Nazanin; color:rgb(102, 102, 102); font-size: 20px; text-align: right\">\n",
    "  <br> یافتن ویژگی با بیشترین همبستگی با قیمت؛ قابل مشاهده است که ویژگی curbweight بیشترین همبستگی را با price دارا می‌باشد. \n",
    "    </p>\n",
    "</div>"
   ]
  },
  {
   "cell_type": "code",
   "execution_count": 26,
   "id": "concerned-valuable",
   "metadata": {},
   "outputs": [
    {
     "data": {
      "text/plain": [
       "array([[1.        , 0.68310449],\n",
       "       [0.68310449, 1.        ]])"
      ]
     },
     "execution_count": 26,
     "metadata": {},
     "output_type": "execute_result"
    }
   ],
   "source": [
    "np.corrcoef(df['carlength'], df['price'])"
   ]
  },
  {
   "cell_type": "code",
   "execution_count": 27,
   "id": "retired-dancing",
   "metadata": {},
   "outputs": [
    {
     "data": {
      "text/plain": [
       "array([[1.        , 0.75548982],\n",
       "       [0.75548982, 1.        ]])"
      ]
     },
     "execution_count": 27,
     "metadata": {},
     "output_type": "execute_result"
    }
   ],
   "source": [
    "np.corrcoef(df['carwidth'], df['price'])"
   ]
  },
  {
   "cell_type": "code",
   "execution_count": 28,
   "id": "offensive-terrain",
   "metadata": {},
   "outputs": [
    {
     "data": {
      "text/plain": [
       "array([[1.        , 0.11178301],\n",
       "       [0.11178301, 1.        ]])"
      ]
     },
     "execution_count": 28,
     "metadata": {},
     "output_type": "execute_result"
    }
   ],
   "source": [
    "np.corrcoef(df['carheight'], df['price'])"
   ]
  },
  {
   "cell_type": "code",
   "execution_count": 29,
   "id": "accepted-makeup",
   "metadata": {},
   "outputs": [
    {
     "data": {
      "text/plain": [
       "array([[1.        , 0.83360243],\n",
       "       [0.83360243, 1.        ]])"
      ]
     },
     "execution_count": 29,
     "metadata": {},
     "output_type": "execute_result"
    }
   ],
   "source": [
    "np.corrcoef(df['curbweight'], df['price'])"
   ]
  },
  {
   "cell_type": "code",
   "execution_count": 30,
   "id": "fantastic-offset",
   "metadata": {},
   "outputs": [
    {
     "data": {
      "text/plain": [
       "array([[1.       , 0.7940255],\n",
       "       [0.7940255, 1.       ]])"
      ]
     },
     "execution_count": 30,
     "metadata": {},
     "output_type": "execute_result"
    }
   ],
   "source": [
    "np.corrcoef(df['enginesize'], df['price'])"
   ]
  },
  {
   "cell_type": "code",
   "execution_count": 31,
   "id": "billion-louisville",
   "metadata": {},
   "outputs": [
    {
     "data": {
      "text/plain": [
       "array([[1.        , 0.76918153],\n",
       "       [0.76918153, 1.        ]])"
      ]
     },
     "execution_count": 31,
     "metadata": {},
     "output_type": "execute_result"
    }
   ],
   "source": [
    "np.corrcoef(df['horsepower'], df['price'])"
   ]
  },
  {
   "cell_type": "code",
   "execution_count": 32,
   "id": "absent-bloom",
   "metadata": {},
   "outputs": [
    {
     "data": {
      "text/plain": [
       "array([[ 1.       , -0.6871505],\n",
       "       [-0.6871505,  1.       ]])"
      ]
     },
     "execution_count": 32,
     "metadata": {},
     "output_type": "execute_result"
    }
   ],
   "source": [
    "np.corrcoef(df['citympg'], df['price'])"
   ]
  },
  {
   "cell_type": "code",
   "execution_count": 33,
   "id": "strategic-structure",
   "metadata": {},
   "outputs": [
    {
     "data": {
      "text/plain": [
       "array([[ 1.        , -0.69883228],\n",
       "       [-0.69883228,  1.        ]])"
      ]
     },
     "execution_count": 33,
     "metadata": {},
     "output_type": "execute_result"
    }
   ],
   "source": [
    "np.corrcoef(df['highwaympg'], df['price'])"
   ]
  },
  {
   "cell_type": "markdown",
   "id": "stylish-avatar",
   "metadata": {},
   "source": [
    "<div style=\"direction:rtl\">\n",
    "    <h2 style=\"font-family:B Nazanin; color:rgb(26, 26, 26)\">\n",
    "    ● قسمت یازدهم\n",
    "    </h2>\n",
    "</div>\n",
    "<div style=\"direction:rtl\">\n",
    "    <p style=\"font-family:B Nazanin; color:rgb(102, 102, 102); font-size: 20px; text-align: right\">\n",
    "  <br> ساخت یک دیتافریم جدید با دو ستون curbweight و price.  \n",
    "    </p>\n",
    "</div>"
   ]
  },
  {
   "cell_type": "code",
   "execution_count": 34,
   "id": "armed-ecuador",
   "metadata": {},
   "outputs": [],
   "source": [
    "train_df = df.filter(['curbweight','price'], axis = 1)"
   ]
  },
  {
   "cell_type": "markdown",
   "id": "opposite-psychology",
   "metadata": {},
   "source": [
    "<div style=\"direction:rtl\">\n",
    "    <h2 style=\"font-family:B Nazanin; color:rgb(26, 26, 26)\">\n",
    "    ● قسمت دوازدهم - الف\n",
    "    </h2>\n",
    "</div>\n",
    "<div style=\"direction:rtl\">\n",
    "    <p style=\"font-family:B Nazanin; color:rgb(102, 102, 102); font-size: 20px; text-align: right\">\n",
    "    <br>یافتن مقادیر Theta به وسیله حل معادل زیر!<br>\n",
    "    </p>\n",
    "</div>\n",
    "<div>\n",
    "    <p style=\"font-family:B Nazanin; color:rgb(102, 102, 102); font-size: 20px; text-align: right\">\n",
    "    <br>Theta = [(Xtranspose.X)inverse].Xtranspose.Y :: Y = train_df['price']\n",
    "    </p>\n",
    "</div>"
   ]
  },
  {
   "cell_type": "code",
   "execution_count": 35,
   "id": "vietnamese-rugby",
   "metadata": {},
   "outputs": [
    {
     "data": {
      "text/plain": [
       "(-4.035820119099695, 0.0015782250825091815)"
      ]
     },
     "execution_count": 35,
     "metadata": {},
     "output_type": "execute_result"
    }
   ],
   "source": [
    "X = np.column_stack((np.ones((len(train_df), 1)), train_df['curbweight']))\n",
    "theta = np.linalg.inv(X.T.dot(X)).dot(X.T).dot(train_df['price'])\n",
    "theta[0], theta[1]"
   ]
  },
  {
   "cell_type": "markdown",
   "id": "removable-format",
   "metadata": {},
   "source": [
    "<div style=\"direction:rtl\">\n",
    "    <h2 style=\"font-family:B Nazanin; color:rgb(26, 26, 26)\">\n",
    "    ● قسمت دوازدهم - ب\n",
    "    </h2>\n",
    "</div>\n",
    "<div style=\"direction:rtl\">\n",
    "    <p style=\"font-family:B Nazanin; color:rgb(102, 102, 102); font-size: 20px; text-align: right\">\n",
    "  <br> محاسبه MSE؛ قابل مشاهده است که این مقدار برابر است با 0.30345 که در رنج مورد نظر پروژه قرار دارد.  \n",
    "    </p>\n",
    "</div>"
   ]
  },
  {
   "cell_type": "code",
   "execution_count": 36,
   "id": "described-memphis",
   "metadata": {},
   "outputs": [
    {
     "data": {
      "text/plain": [
       "0.3034577616137971"
      ]
     },
     "execution_count": 36,
     "metadata": {},
     "output_type": "execute_result"
    }
   ],
   "source": [
    "train_df = train_df.assign(Hx = lambda x: (theta[1]*x['curbweight']+theta[0]))\n",
    "train_df = train_df.assign(Diff = lambda x: (x['price'] - x['Hx']))\n",
    "train_df = train_df.assign(Square = lambda x: (pow(x['Diff'], 2)))\n",
    "Sigma = train_df['Square'].sum()\n",
    "N = train_df.shape[0]\n",
    "MSE = Sigma / N\n",
    "MSE"
   ]
  },
  {
   "cell_type": "markdown",
   "id": "optimum-spank",
   "metadata": {},
   "source": [
    "<div style=\"direction:rtl\">\n",
    "    <h2 style=\"font-family:B Nazanin; color:rgb(26, 26, 26)\">\n",
    "    ● قسمت سیزدهم\n",
    "    </h2>\n",
    "</div>\n",
    "<div style=\"direction:rtl\">\n",
    "    <p style=\"font-family:B Nazanin; color:rgb(102, 102, 102); font-size: 20px; text-align: right\">\n",
    "  <br> نمودار scatter قیمت بر حسب curbweight و نیز نمودار تابع تخمینگر را رسم می‌کنیم؛ قابل مشاهده است که تا حد خوبی همپوشانی دارند.  \n",
    "    </p>\n",
    "</div>"
   ]
  },
  {
   "cell_type": "code",
   "execution_count": 37,
   "id": "protecting-commander",
   "metadata": {},
   "outputs": [
    {
     "data": {
      "text/plain": [
       "Text(0, 0.5, 'Price(blue) - Hx(red)')"
      ]
     },
     "execution_count": 37,
     "metadata": {},
     "output_type": "execute_result"
    },
    {
     "data": {
      "image/png": "[encoded data removed]",
      "text/plain": [
       "<Figure size 432x288 with 1 Axes>"
      ]
     },
     "metadata": {
      "needs_background": "light"
     },
     "output_type": "display_data"
    }
   ],
   "source": [
    "plt.plot(train_df['curbweight'], train_df['price'], 'o', color='blue')\n",
    "plt.plot(train_df['curbweight'], train_df['Hx'], '-', color='red')\n",
    "plt.xlabel('curbweight')\n",
    "plt.ylabel('Price(blue) - Hx(red)')"
   ]
  },
  {
   "cell_type": "markdown",
   "id": "constant-tattoo",
   "metadata": {},
   "source": [
    "<div style=\"direction:rtl\">\n",
    "    <h2 style=\"font-family:B Nazanin; color:rgb(26, 26, 26)\">\n",
    "    ● قسمت چهاردهم - الف\n",
    "    </h2>\n",
    "</div>\n",
    "<div style=\"direction:rtl\">\n",
    "    <p style=\"font-family:B Nazanin; color:rgb(102, 102, 102); font-size: 20px; text-align: right\">\n",
    "  <br> حال با استفاده از تابع تخمینگر قیمت خودروهایی که سلول قیمت آن‌ها خالی بود و آن‌ها را در دیتافریم دیگری ذخیره کرده بودیم را محاسبه می‌کنیم. \n",
    "    </p>\n",
    "</div>"
   ]
  },
  {
   "cell_type": "code",
   "execution_count": 38,
   "id": "fallen-advertiser",
   "metadata": {},
   "outputs": [
    {
     "data": {
      "text/html": [
       "<div>\n",
       "<style scoped>\n",
       "    .dataframe tbody tr th:only-of-type {\n",
       "        vertical-align: middle;\n",
       "    }\n",
       "\n",
       "    .dataframe tbody tr th {\n",
       "        vertical-align: top;\n",
       "    }\n",
       "\n",
       "    .dataframe thead th {\n",
       "        text-align: right;\n",
       "    }\n",
       "</style>\n",
       "<table border=\"1\" class=\"dataframe\">\n",
       "  <thead>\n",
       "    <tr style=\"text-align: right;\">\n",
       "      <th></th>\n",
       "      <th>car_ID</th>\n",
       "      <th>price</th>\n",
       "    </tr>\n",
       "  </thead>\n",
       "  <tbody>\n",
       "    <tr>\n",
       "      <th>4</th>\n",
       "      <td>5</td>\n",
       "      <td>0.421088</td>\n",
       "    </tr>\n",
       "    <tr>\n",
       "      <th>29</th>\n",
       "      <td>30</td>\n",
       "      <td>0.400571</td>\n",
       "    </tr>\n",
       "    <tr>\n",
       "      <th>31</th>\n",
       "      <td>32</td>\n",
       "      <td>-1.165029</td>\n",
       "    </tr>\n",
       "    <tr>\n",
       "      <th>52</th>\n",
       "      <td>53</td>\n",
       "      <td>-1.029301</td>\n",
       "    </tr>\n",
       "    <tr>\n",
       "      <th>53</th>\n",
       "      <td>54</td>\n",
       "      <td>-0.966172</td>\n",
       "    </tr>\n",
       "    <tr>\n",
       "      <th>59</th>\n",
       "      <td>60</td>\n",
       "      <td>-0.271753</td>\n",
       "    </tr>\n",
       "    <tr>\n",
       "      <th>62</th>\n",
       "      <td>63</td>\n",
       "      <td>-0.232298</td>\n",
       "    </tr>\n",
       "    <tr>\n",
       "      <th>67</th>\n",
       "      <td>68</td>\n",
       "      <td>1.511641</td>\n",
       "    </tr>\n",
       "    <tr>\n",
       "      <th>78</th>\n",
       "      <td>79</td>\n",
       "      <td>-0.873057</td>\n",
       "    </tr>\n",
       "    <tr>\n",
       "      <th>84</th>\n",
       "      <td>85</td>\n",
       "      <td>0.582066</td>\n",
       "    </tr>\n",
       "    <tr>\n",
       "      <th>87</th>\n",
       "      <td>88</td>\n",
       "      <td>-0.243345</td>\n",
       "    </tr>\n",
       "    <tr>\n",
       "      <th>88</th>\n",
       "      <td>89</td>\n",
       "      <td>-0.243345</td>\n",
       "    </tr>\n",
       "    <tr>\n",
       "      <th>104</th>\n",
       "      <td>105</td>\n",
       "      <td>0.810909</td>\n",
       "    </tr>\n",
       "    <tr>\n",
       "      <th>123</th>\n",
       "      <td>124</td>\n",
       "      <td>-0.035020</td>\n",
       "    </tr>\n",
       "    <tr>\n",
       "      <th>136</th>\n",
       "      <td>137</td>\n",
       "      <td>0.395836</td>\n",
       "    </tr>\n",
       "    <tr>\n",
       "      <th>137</th>\n",
       "      <td>138</td>\n",
       "      <td>0.457387</td>\n",
       "    </tr>\n",
       "    <tr>\n",
       "      <th>141</th>\n",
       "      <td>142</td>\n",
       "      <td>-0.650527</td>\n",
       "    </tr>\n",
       "    <tr>\n",
       "      <th>149</th>\n",
       "      <td>150</td>\n",
       "      <td>0.146476</td>\n",
       "    </tr>\n",
       "    <tr>\n",
       "      <th>181</th>\n",
       "      <td>182</td>\n",
       "      <td>0.937167</td>\n",
       "    </tr>\n",
       "    <tr>\n",
       "      <th>189</th>\n",
       "      <td>190</td>\n",
       "      <td>-0.478501</td>\n",
       "    </tr>\n",
       "  </tbody>\n",
       "</table>\n",
       "</div>"
      ],
      "text/plain": [
       "     car_ID     price\n",
       "4         5  0.421088\n",
       "29       30  0.400571\n",
       "31       32 -1.165029\n",
       "52       53 -1.029301\n",
       "53       54 -0.966172\n",
       "59       60 -0.271753\n",
       "62       63 -0.232298\n",
       "67       68  1.511641\n",
       "78       79 -0.873057\n",
       "84       85  0.582066\n",
       "87       88 -0.243345\n",
       "88       89 -0.243345\n",
       "104     105  0.810909\n",
       "123     124 -0.035020\n",
       "136     137  0.395836\n",
       "137     138  0.457387\n",
       "141     142 -0.650527\n",
       "149     150  0.146476\n",
       "181     182  0.937167\n",
       "189     190 -0.478501"
      ]
     },
     "execution_count": 38,
     "metadata": {},
     "output_type": "execute_result"
    }
   ],
   "source": [
    "new_df['price'] = new_df['curbweight'].apply(lambda x: theta[1]*x+theta[0])\n",
    "target_df = new_df.filter(['car_ID','price'], axis = 1)\n",
    "target_df"
   ]
  },
  {
   "cell_type": "markdown",
   "id": "heated-consumption",
   "metadata": {},
   "source": [
    "<div style=\"direction:rtl\">\n",
    "    <h2 style=\"font-family:B Nazanin; color:rgb(26, 26, 26)\">\n",
    "    ● قسمت چهاردهم - ب\n",
    "    </h2>\n",
    "</div>\n",
    "<div style=\"direction:rtl\">\n",
    "    <p style=\"font-family:B Nazanin; color:rgb(102, 102, 102); font-size: 20px; text-align: right\">\n",
    "  <br> در پایان نیز، نمودار scatter قیمت بر حسب curbweight، نمودار قیمت‌های محاسبه شده با استفاده از تابع تخمینگر و نیز تابع تخمینگر را رسم می‌کنیم. \n",
    "    </p>\n",
    "</div>"
   ]
  },
  {
   "cell_type": "code",
   "execution_count": 39,
   "id": "fluid-convergence",
   "metadata": {},
   "outputs": [
    {
     "data": {
      "text/plain": [
       "Text(0, 0.5, 'Price(gold) - Hx(red) - Trained price(black)')"
      ]
     },
     "execution_count": 39,
     "metadata": {},
     "output_type": "execute_result"
    },
    {
     "data": {
      "image/png": "[encoded data removed]",
      "text/plain": [
       "<Figure size 432x288 with 1 Axes>"
      ]
     },
     "metadata": {
      "needs_background": "light"
     },
     "output_type": "display_data"
    }
   ],
   "source": [
    "plt.plot(train_df['curbweight'], train_df['price'], 'o', color='gold')\n",
    "plt.plot(train_df['curbweight'], train_df['Hx'], '-', color='red')\n",
    "plt.plot(new_df['curbweight'], new_df['price'], '*', color='black')\n",
    "plt.xlabel('curbweight')\n",
    "plt.ylabel('Price(gold) - Hx(red) - Trained price(black)')"
   ]
  }
 ],
 "metadata": {
  "kernelspec": {
   "display_name": "Python 3",
   "language": "python",
   "name": "python3"
  },
  "language_info": {
   "codemirror_mode": {
    "name": "ipython",
    "version": 3
   },
   "file_extension": ".py",
   "mimetype": "text/x-python",
   "name": "python",
   "nbconvert_exporter": "python",
   "pygments_lexer": "ipython3",
   "version": "3.9.2"
  }
 },
 "nbformat": 4,
 "nbformat_minor": 5
}
