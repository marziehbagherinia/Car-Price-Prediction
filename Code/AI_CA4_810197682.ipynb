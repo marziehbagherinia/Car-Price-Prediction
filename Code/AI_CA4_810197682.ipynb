{
 "cells": [
  {
   "cell_type": "code",
   "execution_count": 1,
   "id": "8d5f45a2",
   "metadata": {},
   "outputs": [],
   "source": [
    "import pandas as pd\n",
    "import numpy as np\n",
    "import seaborn as sns\n",
    "import matplotlib.pyplot as plt\n",
    "from hazm import *\n",
    "\n",
    "from sklearn import tree\n",
    "from sklearn.preprocessing import LabelEncoder\n",
    "from sklearn.neighbors import KNeighborsRegressor\n",
    "from sklearn.linear_model import LinearRegression\n",
    "from sklearn.ensemble import RandomForestRegressor\n",
    "from sklearn.model_selection import train_test_split\n",
    "from sklearn.feature_extraction.text import CountVectorizer\n",
    "from sklearn.metrics import mean_squared_error, mean_absolute_error\n",
    "from sklearn.feature_selection import mutual_info_classif, mutual_info_regression"
   ]
  },
  {
   "cell_type": "markdown",
   "id": "35ca8ba7",
   "metadata": {},
   "source": [
    "<div style=\"direction:rtl\">\n",
    "    <h2 style=\"font-family:B Nazanin; color:rgb(26, 26, 26)\">\n",
    "    ● خواندن دیتاست\n",
    "    </h2>\n",
    "</div>"
   ]
  },
  {
   "cell_type": "code",
   "execution_count": 2,
   "id": "659bf33f",
   "metadata": {},
   "outputs": [
    {
     "data": {
      "text/html": [
       "<div>\n",
       "<style scoped>\n",
       "    .dataframe tbody tr th:only-of-type {\n",
       "        vertical-align: middle;\n",
       "    }\n",
       "\n",
       "    .dataframe tbody tr th {\n",
       "        vertical-align: top;\n",
       "    }\n",
       "\n",
       "    .dataframe thead th {\n",
       "        text-align: right;\n",
       "    }\n",
       "</style>\n",
       "<table border=\"1\" class=\"dataframe\">\n",
       "  <thead>\n",
       "    <tr style=\"text-align: right;\">\n",
       "      <th></th>\n",
       "      <th>brand</th>\n",
       "      <th>category</th>\n",
       "      <th>created_at</th>\n",
       "      <th>description</th>\n",
       "      <th>image_count</th>\n",
       "      <th>mileage</th>\n",
       "      <th>price</th>\n",
       "      <th>title</th>\n",
       "      <th>year</th>\n",
       "    </tr>\n",
       "  </thead>\n",
       "  <tbody>\n",
       "    <tr>\n",
       "      <th>0</th>\n",
       "      <td>NaN</td>\n",
       "      <td>heavy</td>\n",
       "      <td>Tuesday 07PM</td>\n",
       "      <td>سریال 43j$NUMبدون شکستگی سه حلقه لاستیک نو یک ...</td>\n",
       "      <td>4</td>\n",
       "      <td>NaN</td>\n",
       "      <td>-1</td>\n",
       "      <td>لودر کاتر پیلار 950</td>\n",
       "      <td>NaN</td>\n",
       "    </tr>\n",
       "    <tr>\n",
       "      <th>1</th>\n",
       "      <td>سایر</td>\n",
       "      <td>light</td>\n",
       "      <td>Wednesday 04AM</td>\n",
       "      <td>دوگانه ال پی جی بیمه با تخفیف دارد \\nتودوزی نو...</td>\n",
       "      <td>3</td>\n",
       "      <td>180000.0</td>\n",
       "      <td>-1</td>\n",
       "      <td>پاترول شش سیلندر چهار درب</td>\n",
       "      <td>1366</td>\n",
       "    </tr>\n",
       "    <tr>\n",
       "      <th>2</th>\n",
       "      <td>پژو ۴۰۵::Peugeot 405</td>\n",
       "      <td>light</td>\n",
       "      <td>Wednesday 11AM</td>\n",
       "      <td>پژو 2000فنی تازه تعمیر بدنه بدون خطو خش تخیف ب...</td>\n",
       "      <td>0</td>\n",
       "      <td>290000.0</td>\n",
       "      <td>8500000</td>\n",
       "      <td>پژو مدل 81 مشکی</td>\n",
       "      <td>1381</td>\n",
       "    </tr>\n",
       "    <tr>\n",
       "      <th>3</th>\n",
       "      <td>نیسان::Nissan</td>\n",
       "      <td>light</td>\n",
       "      <td>Wednesday 01PM</td>\n",
       "      <td>سلام.\\nماشین کاملا سالم همه چی فابریک متور زد ...</td>\n",
       "      <td>3</td>\n",
       "      <td>175000.0</td>\n",
       "      <td>19500000</td>\n",
       "      <td>پاترول 2در</td>\n",
       "      <td>1372</td>\n",
       "    </tr>\n",
       "    <tr>\n",
       "      <th>4</th>\n",
       "      <td>سمند::Samand</td>\n",
       "      <td>light</td>\n",
       "      <td>Thursday 07AM</td>\n",
       "      <td>سمند ال ایکس بدون رنگ تمامی سرویس ها انجام شده...</td>\n",
       "      <td>4</td>\n",
       "      <td>80000.0</td>\n",
       "      <td>23900000</td>\n",
       "      <td>سمند دوگانه کارخانه</td>\n",
       "      <td>1391</td>\n",
       "    </tr>\n",
       "  </tbody>\n",
       "</table>\n",
       "</div>"
      ],
      "text/plain": [
       "                  brand category      created_at  \\\n",
       "0                   NaN    heavy    Tuesday 07PM   \n",
       "1                  سایر    light  Wednesday 04AM   \n",
       "2  پژو ۴۰۵::Peugeot 405    light  Wednesday 11AM   \n",
       "3         نیسان::Nissan    light  Wednesday 01PM   \n",
       "4          سمند::Samand    light   Thursday 07AM   \n",
       "\n",
       "                                         description  image_count   mileage  \\\n",
       "0  سریال 43j$NUMبدون شکستگی سه حلقه لاستیک نو یک ...            4       NaN   \n",
       "1  دوگانه ال پی جی بیمه با تخفیف دارد \\nتودوزی نو...            3  180000.0   \n",
       "2  پژو 2000فنی تازه تعمیر بدنه بدون خطو خش تخیف ب...            0  290000.0   \n",
       "3  سلام.\\nماشین کاملا سالم همه چی فابریک متور زد ...            3  175000.0   \n",
       "4  سمند ال ایکس بدون رنگ تمامی سرویس ها انجام شده...            4   80000.0   \n",
       "\n",
       "      price                      title  year  \n",
       "0        -1        لودر کاتر پیلار 950   NaN  \n",
       "1        -1  پاترول شش سیلندر چهار درب  1366  \n",
       "2   8500000            پژو مدل 81 مشکی  1381  \n",
       "3  19500000                 پاترول 2در  1372  \n",
       "4  23900000        سمند دوگانه کارخانه  1391  "
      ]
     },
     "execution_count": 2,
     "metadata": {},
     "output_type": "execute_result"
    }
   ],
   "source": [
    "df = pd.read_csv(\"vehicles.csv\")\n",
    "df.head()"
   ]
  },
  {
   "cell_type": "code",
   "execution_count": 3,
   "id": "b78fb195",
   "metadata": {},
   "outputs": [
    {
     "name": "stdout",
     "output_type": "stream",
     "text": [
      "<class 'pandas.core.frame.DataFrame'>\n",
      "RangeIndex: 130443 entries, 0 to 130442\n",
      "Data columns (total 9 columns):\n",
      " #   Column       Non-Null Count   Dtype  \n",
      "---  ------       --------------   -----  \n",
      " 0   brand        120451 non-null  object \n",
      " 1   category     130443 non-null  object \n",
      " 2   created_at   130443 non-null  object \n",
      " 3   description  130443 non-null  object \n",
      " 4   image_count  130443 non-null  int64  \n",
      " 5   mileage      120451 non-null  float64\n",
      " 6   price        130443 non-null  int64  \n",
      " 7   title        130443 non-null  object \n",
      " 8   year         120451 non-null  object \n",
      "dtypes: float64(1), int64(2), object(6)\n",
      "memory usage: 9.0+ MB\n"
     ]
    }
   ],
   "source": [
    "df.info()"
   ]
  },
  {
   "cell_type": "markdown",
   "id": "74f61fb9",
   "metadata": {},
   "source": [
    "<div style=\"direction:rtl\">\n",
    "    <h3 style=\"font-family:B Nazanin; color:rgb(26, 26, 26)\">\n",
    "    ● اطلاعات کلی دیتاست، اعم از میانگین ستون های عددی، واریانس آنها، مقدار بیشینه و کمینه آنها و توزیع آنها\n",
    "    </h3>\n",
    "</div>"
   ]
  },
  {
   "cell_type": "code",
   "execution_count": 4,
   "id": "22f1b381",
   "metadata": {},
   "outputs": [
    {
     "data": {
      "text/html": [
       "<div>\n",
       "<style scoped>\n",
       "    .dataframe tbody tr th:only-of-type {\n",
       "        vertical-align: middle;\n",
       "    }\n",
       "\n",
       "    .dataframe tbody tr th {\n",
       "        vertical-align: top;\n",
       "    }\n",
       "\n",
       "    .dataframe thead th {\n",
       "        text-align: right;\n",
       "    }\n",
       "</style>\n",
       "<table border=\"1\" class=\"dataframe\">\n",
       "  <thead>\n",
       "    <tr style=\"text-align: right;\">\n",
       "      <th></th>\n",
       "      <th>image_count</th>\n",
       "      <th>mileage</th>\n",
       "      <th>price</th>\n",
       "    </tr>\n",
       "  </thead>\n",
       "  <tbody>\n",
       "    <tr>\n",
       "      <th>count</th>\n",
       "      <td>130443.000000</td>\n",
       "      <td>120451.000000</td>\n",
       "      <td>1.304430e+05</td>\n",
       "    </tr>\n",
       "    <tr>\n",
       "      <th>mean</th>\n",
       "      <td>1.865527</td>\n",
       "      <td>100862.291944</td>\n",
       "      <td>2.224718e+07</td>\n",
       "    </tr>\n",
       "    <tr>\n",
       "      <th>std</th>\n",
       "      <td>1.471163</td>\n",
       "      <td>98368.470916</td>\n",
       "      <td>3.079805e+07</td>\n",
       "    </tr>\n",
       "    <tr>\n",
       "      <th>min</th>\n",
       "      <td>0.000000</td>\n",
       "      <td>0.000000</td>\n",
       "      <td>-1.000000e+00</td>\n",
       "    </tr>\n",
       "    <tr>\n",
       "      <th>25%</th>\n",
       "      <td>0.000000</td>\n",
       "      <td>19000.000000</td>\n",
       "      <td>7.400000e+06</td>\n",
       "    </tr>\n",
       "    <tr>\n",
       "      <th>50%</th>\n",
       "      <td>2.000000</td>\n",
       "      <td>75000.000000</td>\n",
       "      <td>1.450000e+07</td>\n",
       "    </tr>\n",
       "    <tr>\n",
       "      <th>75%</th>\n",
       "      <td>3.000000</td>\n",
       "      <td>160000.000000</td>\n",
       "      <td>2.500000e+07</td>\n",
       "    </tr>\n",
       "    <tr>\n",
       "      <th>max</th>\n",
       "      <td>14.000000</td>\n",
       "      <td>500000.000000</td>\n",
       "      <td>4.000000e+08</td>\n",
       "    </tr>\n",
       "  </tbody>\n",
       "</table>\n",
       "</div>"
      ],
      "text/plain": [
       "         image_count        mileage         price\n",
       "count  130443.000000  120451.000000  1.304430e+05\n",
       "mean        1.865527  100862.291944  2.224718e+07\n",
       "std         1.471163   98368.470916  3.079805e+07\n",
       "min         0.000000       0.000000 -1.000000e+00\n",
       "25%         0.000000   19000.000000  7.400000e+06\n",
       "50%         2.000000   75000.000000  1.450000e+07\n",
       "75%         3.000000  160000.000000  2.500000e+07\n",
       "max        14.000000  500000.000000  4.000000e+08"
      ]
     },
     "execution_count": 4,
     "metadata": {},
     "output_type": "execute_result"
    }
   ],
   "source": [
    "df.describe()"
   ]
  },
  {
   "cell_type": "markdown",
   "id": "be43c1a0",
   "metadata": {},
   "source": [
    "<div style=\"direction:rtl\">\n",
    "    <h3 style=\"font-family:B Nazanin; color:rgb(26, 26, 26)\">\n",
    "    ● بررسی اینکه چند درصد از داده های هر ستون Nan هستند!\n",
    "    </h3>\n",
    "</div>"
   ]
  },
  {
   "cell_type": "code",
   "execution_count": 5,
   "id": "edd1d882",
   "metadata": {},
   "outputs": [
    {
     "name": "stdout",
     "output_type": "stream",
     "text": [
      "Non-null brand = 7.660050750136074 %\n",
      "Non-null category = 0.0 %\n",
      "Non-null created_at = 0.0 %\n",
      "Non-null description = 0.0 %\n",
      "Non-null image_count = 0.0 %\n",
      "Non-null mileage = 7.660050750136074 %\n",
      "Non-null price = 0.0 %\n",
      "Non-null title = 0.0 %\n",
      "Non-null year = 7.660050750136074 %\n"
     ]
    }
   ],
   "source": [
    "def nanPercent(data, column):\n",
    "    return data[column].isna().sum() / len(data[column]) * 100\n",
    "\n",
    "columns = df.columns\n",
    "for col in columns:\n",
    "    print(\"Non-null\", col, \"=\", nanPercent(df, col), \"%\")"
   ]
  },
  {
   "cell_type": "markdown",
   "id": "aaaf2321",
   "metadata": {},
   "source": [
    "<div style=\"direction:rtl\">\n",
    "    <h3 style=\"font-family:B Nazanin; color:rgb(26, 26, 26)\">\n",
    "    ● بررسی Correlation میان داده های عددی\n",
    "    </h3>\n",
    "</div>"
   ]
  },
  {
   "cell_type": "code",
   "execution_count": 6,
   "id": "215457c0",
   "metadata": {
    "scrolled": true
   },
   "outputs": [
    {
     "data": {
      "text/plain": [
       "<AxesSubplot:>"
      ]
     },
     "execution_count": 6,
     "metadata": {},
     "output_type": "execute_result"
    },
    {
     "data": {
      "image/png": "[encoded data removed]",
      "text/plain": [
       "<Figure size 432x288 with 2 Axes>"
      ]
     },
     "metadata": {
      "needs_background": "light"
     },
     "output_type": "display_data"
    }
   ],
   "source": [
    "fig, ax = plt.subplots()\n",
    "sns.heatmap(df.corr(), annot=True, linewidths=.5, ax=ax) "
   ]
  },
  {
   "cell_type": "markdown",
   "id": "0b94423b",
   "metadata": {},
   "source": [
    "<div style=\"direction:rtl\">\n",
    "    <h3 style=\"font-family:B Nazanin; color:rgb(26, 26, 26)\">\n",
    "    ● یکسان سازی تایپ داده های ستون year! به منظور حذف داده های NAN.\n",
    "    </h3>\n",
    "</div>"
   ]
  },
  {
   "cell_type": "code",
   "execution_count": 7,
   "id": "41e7cc3c",
   "metadata": {},
   "outputs": [],
   "source": [
    "def correct_year_type(yearsStr):\n",
    "    result = []\n",
    "    for x in yearsStr:\n",
    "        try:\n",
    "            float(x)\n",
    "            result.append(False)\n",
    "        except TypeError:\n",
    "            result.append(True)\n",
    "        except ValueError:\n",
    "            result.append(True)\n",
    "    return result"
   ]
  },
  {
   "cell_type": "code",
   "execution_count": 8,
   "id": "d0075d9f",
   "metadata": {},
   "outputs": [],
   "source": [
    "df.loc[correct_year_type(df.year), 'year'] = 'NaN'\n",
    "df['year'] = df['year'].astype(float)"
   ]
  },
  {
   "cell_type": "markdown",
   "id": "6c7e9f0b",
   "metadata": {},
   "source": [
    "<div style=\"direction:rtl\">\n",
    "    <h3 style=\"font-family:B Nazanin; color:rgb(26, 26, 26)\">\n",
    "    ● حذف داده های NAN ستون های عدد و جایگزینی آن با میانگین داده های آن ستون.\n",
    "    </h3>\n",
    "</div>\n",
    "<br>\n",
    "<div style=\"direction:rtl\">\n",
    "    <h3 style=\"font-family:B Nazanin; color:rgb(26, 26, 26)\">\n",
    "    ● سوال چهار\n",
    "    </h3>\n",
    "</div>\n",
    "<div style=\"direction:rtl\">\n",
    "    <p style=\"font-family:B Nazanin; color:rgb(102, 102, 102); font-size: 20px; text-align: right\">\n",
    "  <br>ساده ترین روش، حذف داده های NAN است. روش دیگر و مرسوم تر، استفاده از میانگین مقادیر آن ستون به جای مقدارهای NAN است که من از این روش استفاده کردم.\n",
    "</div>\n"
   ]
  },
  {
   "cell_type": "code",
   "execution_count": 9,
   "id": "f82acedf",
   "metadata": {},
   "outputs": [
    {
     "data": {
      "text/plain": [
       "brand          9992\n",
       "category          0\n",
       "created_at        0\n",
       "description       0\n",
       "image_count       0\n",
       "mileage           0\n",
       "price             0\n",
       "title             0\n",
       "year              0\n",
       "dtype: int64"
      ]
     },
     "execution_count": 9,
     "metadata": {},
     "output_type": "execute_result"
    }
   ],
   "source": [
    "mean_feature = [\"mileage\", \"year\"]\n",
    "for feature in mean_feature:\n",
    "    df[feature].fillna(df[feature].mean(), inplace = True)\n",
    "    \n",
    "df.isnull().sum()"
   ]
  },
  {
   "cell_type": "markdown",
   "id": "532397d2",
   "metadata": {},
   "source": [
    "<div style=\"direction:rtl\">\n",
    "    <h3 style=\"font-family:B Nazanin; color:rgb(26, 26, 26)\">\n",
    "    ● تبدیل داده های نوعی به داده های عددی (با استفاده از LabelEncoder) و نیز حذف ستون created_at بعلت اینکه حاوی اطلاعات موثری برای طبقه بندی نمی باشد.\n",
    "    </h3>\n",
    "</div>\n",
    "<br>\n",
    "<div style=\"direction:rtl\">\n",
    "    <h3 style=\"font-family:B Nazanin; color:rgb(26, 26, 26)\">\n",
    "    ● سوال دو\n",
    "    </h3>\n",
    "</div>\n",
    "<div style=\"direction:rtl\">\n",
    "    <p style=\"font-family:B Nazanin; color:rgb(102, 102, 102); font-size: 20px; text-align: right\">\n",
    "  <br>من از روش اختصاص دادن یک عدد یکتا به هر لیبل استفاده کردم. علت استفاده از این روش آن است که با توجه به پیش پردازشی که برای ستون های description و  title  انجام می دهیم، تعداد ستون ها زیاد می شود و استفاده از روش دیگر که به ازای هر لیبل یک ستون اضافه می کند، مجددا تعداد ستون ها را افزایش می دهد که این قطعا خوب نیست.\n",
    "</div>\n"
   ]
  },
  {
   "cell_type": "code",
   "execution_count": 10,
   "id": "16dd9e01",
   "metadata": {},
   "outputs": [],
   "source": [
    "label_encoder = LabelEncoder()\n",
    "\n",
    "#df_cat = df[['brand', 'category', 'created_at']]\n",
    "df_cat = df[['brand', 'category']]\n",
    "df_cat = df_cat.apply(LabelEncoder().fit_transform)\n",
    "\n",
    "df = df.drop(['brand', 'category', 'created_at'], axis = 1)\n",
    "df = pd.concat([df, df_cat], axis = 1)"
   ]
  },
  {
   "cell_type": "code",
   "execution_count": 11,
   "id": "040e8bd7",
   "metadata": {},
   "outputs": [
    {
     "data": {
      "text/plain": [
       "description    0\n",
       "image_count    0\n",
       "mileage        0\n",
       "price          0\n",
       "title          0\n",
       "year           0\n",
       "brand          0\n",
       "category       0\n",
       "dtype: int64"
      ]
     },
     "execution_count": 11,
     "metadata": {},
     "output_type": "execute_result"
    }
   ],
   "source": [
    "df[feature].fillna(df['brand'].mean(), inplace = True)\n",
    "df.isnull().sum()"
   ]
  },
  {
   "cell_type": "code",
   "execution_count": 12,
   "id": "f32e4150",
   "metadata": {},
   "outputs": [],
   "source": [
    "stemmer = Stemmer()\n",
    "normalizer = Normalizer()\n",
    "lemmatizer = Lemmatizer()\n",
    "\n",
    "whiteSpace = [':','::','؟','.',',','«','»','(',')','،','[',']','{','}','-','','؛', '#', '\\r', '\\n', 'یه', 'یک']\n",
    "alphabet = ['ا', 'ب', 'پ', 'ت', 'ث', 'ج', 'چ', 'ح', 'خ', 'د', 'ذ', 'ر', 'ز', 'ژ', 'س', 'ش', 'ص', 'ض', 'ط', 'ظ', 'ع', 'غ', 'ف', 'ق','ک','گ','ل','م','ن','و','ه','ی']\n",
    "stopWord = [sw for sw in stopwords_list()]\n",
    "stopWord.extend(whiteSpace)\n",
    "stopWord.extend(alphabet)"
   ]
  },
  {
   "cell_type": "code",
   "execution_count": 13,
   "id": "c4199ad9",
   "metadata": {},
   "outputs": [],
   "source": [
    "def normalize_data_2(col):\n",
    "    bag = [lemmatizer.lemmatize(stemmer.stem(word)) for word in word_tokenize(normalizer.normalize(col))]\n",
    "    bag = list(filter(lambda word: word not in stopWord, bag))\n",
    "    str1 = \"\"\n",
    "    for ele in bag: \n",
    "        str1 += ele      \n",
    "    return str1\n",
    "\n",
    "def normalize_data(string):\n",
    "    ret = \"\"\n",
    "    for char in str(string):\n",
    "        if char in alphabet:\n",
    "            ret += char\n",
    "        else:\n",
    "            ret += ' '\n",
    "    return ret"
   ]
  },
  {
   "cell_type": "markdown",
   "id": "ef5d6f5f",
   "metadata": {},
   "source": [
    "<div style=\"direction:rtl\">\n",
    "    <h3 style=\"font-family:B Nazanin; color:rgb(26, 26, 26)\">\n",
    "    ● نرمالسازی داده های ستون های description و title.\n",
    "    </h3>\n",
    "</div>"
   ]
  },
  {
   "cell_type": "code",
   "execution_count": 14,
   "id": "453b5177",
   "metadata": {
    "scrolled": true
   },
   "outputs": [
    {
     "data": {
      "text/html": [
       "<div>\n",
       "<style scoped>\n",
       "    .dataframe tbody tr th:only-of-type {\n",
       "        vertical-align: middle;\n",
       "    }\n",
       "\n",
       "    .dataframe tbody tr th {\n",
       "        vertical-align: top;\n",
       "    }\n",
       "\n",
       "    .dataframe thead th {\n",
       "        text-align: right;\n",
       "    }\n",
       "</style>\n",
       "<table border=\"1\" class=\"dataframe\">\n",
       "  <thead>\n",
       "    <tr style=\"text-align: right;\">\n",
       "      <th></th>\n",
       "      <th>description</th>\n",
       "      <th>image_count</th>\n",
       "      <th>mileage</th>\n",
       "      <th>price</th>\n",
       "      <th>title</th>\n",
       "      <th>year</th>\n",
       "      <th>brand</th>\n",
       "      <th>category</th>\n",
       "    </tr>\n",
       "  </thead>\n",
       "  <tbody>\n",
       "    <tr>\n",
       "      <th>0</th>\n",
       "      <td>سریال        بدون شکستگی سه حلقه لاستیک نو یک ...</td>\n",
       "      <td>4</td>\n",
       "      <td>100862.291944</td>\n",
       "      <td>-1</td>\n",
       "      <td>لودر کاتر پیلار</td>\n",
       "      <td>1387.849446</td>\n",
       "      <td>26</td>\n",
       "      <td>0</td>\n",
       "    </tr>\n",
       "    <tr>\n",
       "      <th>1</th>\n",
       "      <td>دوگانه ال پی جی بیمه با تخفیف دارد  تودوزی نو ...</td>\n",
       "      <td>3</td>\n",
       "      <td>180000.000000</td>\n",
       "      <td>-1</td>\n",
       "      <td>پاترول شش سیلندر چهار درب</td>\n",
       "      <td>1366.000000</td>\n",
       "      <td>10</td>\n",
       "      <td>1</td>\n",
       "    </tr>\n",
       "    <tr>\n",
       "      <th>2</th>\n",
       "      <td>پژو     فنی تازه تعمیر بدنه بدون خطو خش تخیف ب...</td>\n",
       "      <td>0</td>\n",
       "      <td>290000.000000</td>\n",
       "      <td>8500000</td>\n",
       "      <td>پژو مدل    مشکی</td>\n",
       "      <td>1381.000000</td>\n",
       "      <td>23</td>\n",
       "      <td>1</td>\n",
       "    </tr>\n",
       "    <tr>\n",
       "      <th>3</th>\n",
       "      <td>سلام  ماشین کاملا سالم همه چی فابریک متور زد ژ...</td>\n",
       "      <td>3</td>\n",
       "      <td>175000.000000</td>\n",
       "      <td>19500000</td>\n",
       "      <td>پاترول  در</td>\n",
       "      <td>1372.000000</td>\n",
       "      <td>13</td>\n",
       "      <td>1</td>\n",
       "    </tr>\n",
       "    <tr>\n",
       "      <th>4</th>\n",
       "      <td>سمند ال ایکس بدون رنگ تمامی سرویس ها انجام شده...</td>\n",
       "      <td>4</td>\n",
       "      <td>80000.000000</td>\n",
       "      <td>23900000</td>\n",
       "      <td>سمند دوگانه کارخانه</td>\n",
       "      <td>1391.000000</td>\n",
       "      <td>11</td>\n",
       "      <td>1</td>\n",
       "    </tr>\n",
       "    <tr>\n",
       "      <th>...</th>\n",
       "      <td>...</td>\n",
       "      <td>...</td>\n",
       "      <td>...</td>\n",
       "      <td>...</td>\n",
       "      <td>...</td>\n",
       "      <td>...</td>\n",
       "      <td>...</td>\n",
       "      <td>...</td>\n",
       "    </tr>\n",
       "    <tr>\n",
       "      <th>130438</th>\n",
       "      <td>بادسان فوق بیرنگ سفید رنگ بیمه تابرج      تخفی...</td>\n",
       "      <td>2</td>\n",
       "      <td>100862.291944</td>\n",
       "      <td>48000000</td>\n",
       "      <td>بادسان      مدل</td>\n",
       "      <td>1387.849446</td>\n",
       "      <td>26</td>\n",
       "      <td>0</td>\n",
       "    </tr>\n",
       "    <tr>\n",
       "      <th>130439</th>\n",
       "      <td>باسلام  تراکتورازصفری دست خودم بوده سالم ودارا...</td>\n",
       "      <td>4</td>\n",
       "      <td>100862.291944</td>\n",
       "      <td>-1</td>\n",
       "      <td>تراکتورگلدونی    ایتالیا</td>\n",
       "      <td>1387.849446</td>\n",
       "      <td>26</td>\n",
       "      <td>0</td>\n",
       "    </tr>\n",
       "    <tr>\n",
       "      <th>130440</th>\n",
       "      <td>ماشینم تصادفیه با خریدار توافق میکنم سر قیمتش</td>\n",
       "      <td>3</td>\n",
       "      <td>20000.000000</td>\n",
       "      <td>-1</td>\n",
       "      <td>خودرو سمند تصادفی مدل</td>\n",
       "      <td>1392.000000</td>\n",
       "      <td>11</td>\n",
       "      <td>1</td>\n",
       "    </tr>\n",
       "    <tr>\n",
       "      <th>130441</th>\n",
       "      <td>سند  برگ بیمه تا برج    تخفیفات بیمه    سال مع...</td>\n",
       "      <td>4</td>\n",
       "      <td>123000.000000</td>\n",
       "      <td>6900000</td>\n",
       "      <td>پراید    بسیار سالم</td>\n",
       "      <td>1379.000000</td>\n",
       "      <td>17</td>\n",
       "      <td>1</td>\n",
       "    </tr>\n",
       "    <tr>\n",
       "      <th>130442</th>\n",
       "      <td>پراید دوگانه کارخانه میباشد و کم کارکرد روکش  ...</td>\n",
       "      <td>3</td>\n",
       "      <td>43000.000000</td>\n",
       "      <td>17400000</td>\n",
       "      <td>پراید دوگانه کارخانه مدل</td>\n",
       "      <td>1393.000000</td>\n",
       "      <td>17</td>\n",
       "      <td>1</td>\n",
       "    </tr>\n",
       "  </tbody>\n",
       "</table>\n",
       "<p>130443 rows × 8 columns</p>\n",
       "</div>"
      ],
      "text/plain": [
       "                                              description  image_count  \\\n",
       "0       سریال        بدون شکستگی سه حلقه لاستیک نو یک ...            4   \n",
       "1       دوگانه ال پی جی بیمه با تخفیف دارد  تودوزی نو ...            3   \n",
       "2       پژو     فنی تازه تعمیر بدنه بدون خطو خش تخیف ب...            0   \n",
       "3       سلام  ماشین کاملا سالم همه چی فابریک متور زد ژ...            3   \n",
       "4       سمند ال ایکس بدون رنگ تمامی سرویس ها انجام شده...            4   \n",
       "...                                                   ...          ...   \n",
       "130438  بادسان فوق بیرنگ سفید رنگ بیمه تابرج      تخفی...            2   \n",
       "130439  باسلام  تراکتورازصفری دست خودم بوده سالم ودارا...            4   \n",
       "130440      ماشینم تصادفیه با خریدار توافق میکنم سر قیمتش            3   \n",
       "130441  سند  برگ بیمه تا برج    تخفیفات بیمه    سال مع...            4   \n",
       "130442  پراید دوگانه کارخانه میباشد و کم کارکرد روکش  ...            3   \n",
       "\n",
       "              mileage     price                       title         year  \\\n",
       "0       100862.291944        -1         لودر کاتر پیلار      1387.849446   \n",
       "1       180000.000000        -1   پاترول شش سیلندر چهار درب  1366.000000   \n",
       "2       290000.000000   8500000             پژو مدل    مشکی  1381.000000   \n",
       "3       175000.000000  19500000                  پاترول  در  1372.000000   \n",
       "4        80000.000000  23900000         سمند دوگانه کارخانه  1391.000000   \n",
       "...               ...       ...                         ...          ...   \n",
       "130438  100862.291944  48000000           بادسان      مدل    1387.849446   \n",
       "130439  100862.291944        -1    تراکتورگلدونی    ایتالیا  1387.849446   \n",
       "130440   20000.000000        -1     خودرو سمند تصادفی مدل    1392.000000   \n",
       "130441  123000.000000   6900000         پراید    بسیار سالم  1379.000000   \n",
       "130442   43000.000000  17400000  پراید دوگانه کارخانه مدل    1393.000000   \n",
       "\n",
       "        brand  category  \n",
       "0          26         0  \n",
       "1          10         1  \n",
       "2          23         1  \n",
       "3          13         1  \n",
       "4          11         1  \n",
       "...       ...       ...  \n",
       "130438     26         0  \n",
       "130439     26         0  \n",
       "130440     11         1  \n",
       "130441     17         1  \n",
       "130442     17         1  \n",
       "\n",
       "[130443 rows x 8 columns]"
      ]
     },
     "execution_count": 14,
     "metadata": {},
     "output_type": "execute_result"
    }
   ],
   "source": [
    "titleDf = pd.DataFrame(df['title'])\n",
    "descDf = pd.DataFrame(df['description'])\n",
    "df['title'] = titleDf.applymap(normalize_data)\n",
    "df['description'] = descDf.applymap(normalize_data)\n",
    "\n",
    "df"
   ]
  },
  {
   "cell_type": "markdown",
   "id": "2af31ab3",
   "metadata": {},
   "source": [
    "<div style=\"direction:rtl\">\n",
    "    <h3 style=\"font-family:B Nazanin; color:rgb(26, 26, 26)\">\n",
    "    ● استفاده از روش count_vectorizer به منظور پیش پردازش داده های ستون های description و title.\n",
    "    </h3>\n",
    "</div>\n",
    "<br>\n",
    "<div style=\"direction:rtl\">\n",
    "    <h3 style=\"font-family:B Nazanin; color:rgb(26, 26, 26)\">\n",
    "    ● سوال سه\n",
    "    </h3>\n",
    "</div>\n",
    "<div style=\"direction:rtl\">\n",
    "    <p style=\"font-family:B Nazanin; color:rgb(102, 102, 102); font-size: 20px; text-align: right\">\n",
    "  <br>ما برای پردازش داده های دو ستون مذکور از روش count_vectorizer استفاده کردیم. در ادامه نتایج استفاده از آن در df_desc و df_title قابل مشاهده است.\n",
    "</div>\n"
   ]
  },
  {
   "cell_type": "code",
   "execution_count": 15,
   "id": "cb75093e",
   "metadata": {},
   "outputs": [],
   "source": [
    "vectorizer = CountVectorizer(analyzer = 'word', ngram_range = (1, 1),\n",
    "                             preprocessor= normalizer.normalize,\n",
    "                             tokenizer = WordTokenizer().tokenize,\n",
    "                             stop_words = stopWord, min_df = 100)"
   ]
  },
  {
   "cell_type": "code",
   "execution_count": 16,
   "id": "01dc71c1",
   "metadata": {},
   "outputs": [],
   "source": [
    "vectorized_desc = vectorizer.fit_transform(df['description'])\n",
    "df_desc = pd.DataFrame(vectorized_desc.toarray(), columns = vectorizer.get_feature_names())\n",
    "freq_desc = sorted(vectorizer.vocabulary_.items(), key=lambda x: x[1], reverse=True)\n",
    "\n",
    "vectorized_title = vectorizer.fit_transform(df['title'])\n",
    "df_title = pd.DataFrame(vectorized_title.toarray(), columns = vectorizer.get_feature_names())\n",
    "freq_title = sorted(vectorizer.vocabulary_.items(), key=lambda x: x[1], reverse=True)"
   ]
  },
  {
   "cell_type": "code",
   "execution_count": 17,
   "id": "fe1d7453",
   "metadata": {},
   "outputs": [],
   "source": [
    "title_names = []\n",
    "desc_names = []\n",
    "\n",
    "interval = int(min(len(freq_title), len(freq_desc))*0.3)\n",
    "for i in range(interval):\n",
    "    title_names.append(freq_title[i][0])\n",
    "    desc_names.append(freq_desc[i][0])\n",
    "\n",
    "df_title_ = df_title[title_names]\n",
    "df_desc_ = df_desc[desc_names]"
   ]
  },
  {
   "cell_type": "code",
   "execution_count": 18,
   "id": "37abedc1",
   "metadata": {
    "scrolled": false
   },
   "outputs": [
    {
     "data": {
      "text/html": [
       "<div>\n",
       "<style scoped>\n",
       "    .dataframe tbody tr th:only-of-type {\n",
       "        vertical-align: middle;\n",
       "    }\n",
       "\n",
       "    .dataframe tbody tr th {\n",
       "        vertical-align: top;\n",
       "    }\n",
       "\n",
       "    .dataframe thead th {\n",
       "        text-align: right;\n",
       "    }\n",
       "</style>\n",
       "<table border=\"1\" class=\"dataframe\">\n",
       "  <thead>\n",
       "    <tr style=\"text-align: right;\">\n",
       "      <th></th>\n",
       "      <th>یکماه</th>\n",
       "      <th>یکم</th>\n",
       "      <th>یکساله</th>\n",
       "      <th>یکسال</th>\n",
       "      <th>یکدستگاه</th>\n",
       "      <th>یورو</th>\n",
       "      <th>یو</th>\n",
       "      <th>ینه‌ها</th>\n",
       "      <th>ینه</th>\n",
       "      <th>ینده</th>\n",
       "      <th>...</th>\n",
       "      <th>کلاس</th>\n",
       "      <th>کلاج</th>\n",
       "      <th>کلا</th>\n",
       "      <th>کفی</th>\n",
       "      <th>کفپوش</th>\n",
       "      <th>کفه</th>\n",
       "      <th>کف</th>\n",
       "      <th>کشی</th>\n",
       "      <th>کشنده</th>\n",
       "      <th>کش</th>\n",
       "    </tr>\n",
       "  </thead>\n",
       "  <tbody>\n",
       "    <tr>\n",
       "      <th>0</th>\n",
       "      <td>0</td>\n",
       "      <td>0</td>\n",
       "      <td>0</td>\n",
       "      <td>0</td>\n",
       "      <td>0</td>\n",
       "      <td>0</td>\n",
       "      <td>0</td>\n",
       "      <td>0</td>\n",
       "      <td>0</td>\n",
       "      <td>0</td>\n",
       "      <td>...</td>\n",
       "      <td>0</td>\n",
       "      <td>0</td>\n",
       "      <td>0</td>\n",
       "      <td>0</td>\n",
       "      <td>0</td>\n",
       "      <td>0</td>\n",
       "      <td>0</td>\n",
       "      <td>0</td>\n",
       "      <td>0</td>\n",
       "      <td>0</td>\n",
       "    </tr>\n",
       "    <tr>\n",
       "      <th>1</th>\n",
       "      <td>0</td>\n",
       "      <td>0</td>\n",
       "      <td>0</td>\n",
       "      <td>0</td>\n",
       "      <td>0</td>\n",
       "      <td>0</td>\n",
       "      <td>0</td>\n",
       "      <td>0</td>\n",
       "      <td>0</td>\n",
       "      <td>0</td>\n",
       "      <td>...</td>\n",
       "      <td>0</td>\n",
       "      <td>0</td>\n",
       "      <td>0</td>\n",
       "      <td>0</td>\n",
       "      <td>0</td>\n",
       "      <td>0</td>\n",
       "      <td>0</td>\n",
       "      <td>0</td>\n",
       "      <td>0</td>\n",
       "      <td>0</td>\n",
       "    </tr>\n",
       "    <tr>\n",
       "      <th>2</th>\n",
       "      <td>0</td>\n",
       "      <td>0</td>\n",
       "      <td>0</td>\n",
       "      <td>1</td>\n",
       "      <td>0</td>\n",
       "      <td>0</td>\n",
       "      <td>0</td>\n",
       "      <td>0</td>\n",
       "      <td>0</td>\n",
       "      <td>0</td>\n",
       "      <td>...</td>\n",
       "      <td>0</td>\n",
       "      <td>0</td>\n",
       "      <td>0</td>\n",
       "      <td>0</td>\n",
       "      <td>0</td>\n",
       "      <td>0</td>\n",
       "      <td>0</td>\n",
       "      <td>0</td>\n",
       "      <td>0</td>\n",
       "      <td>0</td>\n",
       "    </tr>\n",
       "    <tr>\n",
       "      <th>3</th>\n",
       "      <td>0</td>\n",
       "      <td>0</td>\n",
       "      <td>0</td>\n",
       "      <td>0</td>\n",
       "      <td>0</td>\n",
       "      <td>0</td>\n",
       "      <td>0</td>\n",
       "      <td>0</td>\n",
       "      <td>0</td>\n",
       "      <td>0</td>\n",
       "      <td>...</td>\n",
       "      <td>0</td>\n",
       "      <td>0</td>\n",
       "      <td>0</td>\n",
       "      <td>0</td>\n",
       "      <td>0</td>\n",
       "      <td>0</td>\n",
       "      <td>0</td>\n",
       "      <td>0</td>\n",
       "      <td>0</td>\n",
       "      <td>0</td>\n",
       "    </tr>\n",
       "    <tr>\n",
       "      <th>4</th>\n",
       "      <td>0</td>\n",
       "      <td>0</td>\n",
       "      <td>0</td>\n",
       "      <td>0</td>\n",
       "      <td>0</td>\n",
       "      <td>0</td>\n",
       "      <td>0</td>\n",
       "      <td>0</td>\n",
       "      <td>0</td>\n",
       "      <td>0</td>\n",
       "      <td>...</td>\n",
       "      <td>0</td>\n",
       "      <td>0</td>\n",
       "      <td>0</td>\n",
       "      <td>0</td>\n",
       "      <td>0</td>\n",
       "      <td>0</td>\n",
       "      <td>0</td>\n",
       "      <td>0</td>\n",
       "      <td>0</td>\n",
       "      <td>0</td>\n",
       "    </tr>\n",
       "    <tr>\n",
       "      <th>...</th>\n",
       "      <td>...</td>\n",
       "      <td>...</td>\n",
       "      <td>...</td>\n",
       "      <td>...</td>\n",
       "      <td>...</td>\n",
       "      <td>...</td>\n",
       "      <td>...</td>\n",
       "      <td>...</td>\n",
       "      <td>...</td>\n",
       "      <td>...</td>\n",
       "      <td>...</td>\n",
       "      <td>...</td>\n",
       "      <td>...</td>\n",
       "      <td>...</td>\n",
       "      <td>...</td>\n",
       "      <td>...</td>\n",
       "      <td>...</td>\n",
       "      <td>...</td>\n",
       "      <td>...</td>\n",
       "      <td>...</td>\n",
       "      <td>...</td>\n",
       "    </tr>\n",
       "    <tr>\n",
       "      <th>130438</th>\n",
       "      <td>0</td>\n",
       "      <td>0</td>\n",
       "      <td>0</td>\n",
       "      <td>0</td>\n",
       "      <td>0</td>\n",
       "      <td>0</td>\n",
       "      <td>0</td>\n",
       "      <td>0</td>\n",
       "      <td>0</td>\n",
       "      <td>0</td>\n",
       "      <td>...</td>\n",
       "      <td>0</td>\n",
       "      <td>0</td>\n",
       "      <td>0</td>\n",
       "      <td>0</td>\n",
       "      <td>0</td>\n",
       "      <td>0</td>\n",
       "      <td>0</td>\n",
       "      <td>0</td>\n",
       "      <td>0</td>\n",
       "      <td>0</td>\n",
       "    </tr>\n",
       "    <tr>\n",
       "      <th>130439</th>\n",
       "      <td>0</td>\n",
       "      <td>0</td>\n",
       "      <td>0</td>\n",
       "      <td>0</td>\n",
       "      <td>0</td>\n",
       "      <td>0</td>\n",
       "      <td>0</td>\n",
       "      <td>0</td>\n",
       "      <td>0</td>\n",
       "      <td>0</td>\n",
       "      <td>...</td>\n",
       "      <td>0</td>\n",
       "      <td>0</td>\n",
       "      <td>0</td>\n",
       "      <td>0</td>\n",
       "      <td>0</td>\n",
       "      <td>0</td>\n",
       "      <td>0</td>\n",
       "      <td>0</td>\n",
       "      <td>0</td>\n",
       "      <td>0</td>\n",
       "    </tr>\n",
       "    <tr>\n",
       "      <th>130440</th>\n",
       "      <td>0</td>\n",
       "      <td>0</td>\n",
       "      <td>0</td>\n",
       "      <td>0</td>\n",
       "      <td>0</td>\n",
       "      <td>0</td>\n",
       "      <td>0</td>\n",
       "      <td>0</td>\n",
       "      <td>0</td>\n",
       "      <td>0</td>\n",
       "      <td>...</td>\n",
       "      <td>0</td>\n",
       "      <td>0</td>\n",
       "      <td>0</td>\n",
       "      <td>0</td>\n",
       "      <td>0</td>\n",
       "      <td>0</td>\n",
       "      <td>0</td>\n",
       "      <td>0</td>\n",
       "      <td>0</td>\n",
       "      <td>0</td>\n",
       "    </tr>\n",
       "    <tr>\n",
       "      <th>130441</th>\n",
       "      <td>0</td>\n",
       "      <td>0</td>\n",
       "      <td>0</td>\n",
       "      <td>0</td>\n",
       "      <td>0</td>\n",
       "      <td>0</td>\n",
       "      <td>0</td>\n",
       "      <td>0</td>\n",
       "      <td>0</td>\n",
       "      <td>0</td>\n",
       "      <td>...</td>\n",
       "      <td>0</td>\n",
       "      <td>0</td>\n",
       "      <td>0</td>\n",
       "      <td>0</td>\n",
       "      <td>0</td>\n",
       "      <td>0</td>\n",
       "      <td>0</td>\n",
       "      <td>0</td>\n",
       "      <td>0</td>\n",
       "      <td>0</td>\n",
       "    </tr>\n",
       "    <tr>\n",
       "      <th>130442</th>\n",
       "      <td>0</td>\n",
       "      <td>0</td>\n",
       "      <td>0</td>\n",
       "      <td>0</td>\n",
       "      <td>0</td>\n",
       "      <td>0</td>\n",
       "      <td>0</td>\n",
       "      <td>0</td>\n",
       "      <td>0</td>\n",
       "      <td>0</td>\n",
       "      <td>...</td>\n",
       "      <td>0</td>\n",
       "      <td>0</td>\n",
       "      <td>0</td>\n",
       "      <td>0</td>\n",
       "      <td>0</td>\n",
       "      <td>0</td>\n",
       "      <td>0</td>\n",
       "      <td>0</td>\n",
       "      <td>0</td>\n",
       "      <td>0</td>\n",
       "    </tr>\n",
       "  </tbody>\n",
       "</table>\n",
       "<p>130443 rows × 81 columns</p>\n",
       "</div>"
      ],
      "text/plain": [
       "        یکماه  یکم  یکساله  یکسال  یکدستگاه  یورو  یو  ینه‌ها  ینه  ینده  ...  \\\n",
       "0           0    0       0      0         0     0   0       0    0     0  ...   \n",
       "1           0    0       0      0         0     0   0       0    0     0  ...   \n",
       "2           0    0       0      1         0     0   0       0    0     0  ...   \n",
       "3           0    0       0      0         0     0   0       0    0     0  ...   \n",
       "4           0    0       0      0         0     0   0       0    0     0  ...   \n",
       "...       ...  ...     ...    ...       ...   ...  ..     ...  ...   ...  ...   \n",
       "130438      0    0       0      0         0     0   0       0    0     0  ...   \n",
       "130439      0    0       0      0         0     0   0       0    0     0  ...   \n",
       "130440      0    0       0      0         0     0   0       0    0     0  ...   \n",
       "130441      0    0       0      0         0     0   0       0    0     0  ...   \n",
       "130442      0    0       0      0         0     0   0       0    0     0  ...   \n",
       "\n",
       "        کلاس  کلاج  کلا  کفی  کفپوش  کفه  کف  کشی  کشنده  کش  \n",
       "0          0     0    0    0      0    0   0    0      0   0  \n",
       "1          0     0    0    0      0    0   0    0      0   0  \n",
       "2          0     0    0    0      0    0   0    0      0   0  \n",
       "3          0     0    0    0      0    0   0    0      0   0  \n",
       "4          0     0    0    0      0    0   0    0      0   0  \n",
       "...      ...   ...  ...  ...    ...  ...  ..  ...    ...  ..  \n",
       "130438     0     0    0    0      0    0   0    0      0   0  \n",
       "130439     0     0    0    0      0    0   0    0      0   0  \n",
       "130440     0     0    0    0      0    0   0    0      0   0  \n",
       "130441     0     0    0    0      0    0   0    0      0   0  \n",
       "130442     0     0    0    0      0    0   0    0      0   0  \n",
       "\n",
       "[130443 rows x 81 columns]"
      ]
     },
     "execution_count": 18,
     "metadata": {},
     "output_type": "execute_result"
    }
   ],
   "source": [
    "df_desc_"
   ]
  },
  {
   "cell_type": "markdown",
   "id": "ecc8a568",
   "metadata": {},
   "source": [
    "<div style=\"direction:rtl\">\n",
    "    <h3 style=\"font-family:B Nazanin; color:rgb(26, 26, 26)\">\n",
    "    ● جایگذاری داده های پیش پردازش شده به جای داده های ستون های description و title.\n",
    "    </h3>\n",
    "</div>"
   ]
  },
  {
   "cell_type": "code",
   "execution_count": 19,
   "id": "1b40dd2c",
   "metadata": {},
   "outputs": [],
   "source": [
    "df_final = df.drop(['description', 'title'], axis = 1)\n",
    "df_final = df_final.join(df_title_)\n",
    "df_final = df_final.join(df_desc_, lsuffix = '_l', rsuffix = '_r')"
   ]
  },
  {
   "cell_type": "markdown",
   "id": "f5cd29ff",
   "metadata": {},
   "source": [
    "<div style=\"direction:rtl\">\n",
    "    <h3 style=\"font-family:B Nazanin; color:rgb(26, 26, 26)\">\n",
    "    ● آماده سازی داده های test و train.\n",
    "    </h3>\n",
    "</div>\n",
    "<br>\n",
    "<div style=\"direction:rtl\">\n",
    "    <h3 style=\"font-family:B Nazanin; color:rgb(26, 26, 26)\">\n",
    "    ● سوال پنج\n",
    "    </h3>\n",
    "</div>\n",
    "<div style=\"direction:rtl\">\n",
    "    <p style=\"font-family:B Nazanin; color:rgb(102, 102, 102); font-size: 20px; text-align: right\">\n",
    "  <br> بنده از نسبت 20 به 80 برای تقسیم داده ها استفاده کردم و علت هم این بود که در کورس‌های مختلف دیده‌ام که درصد جداسازی P اگر حدود ۲۰ درصد باشد بسیار عالی است و این را به تجربه می‌گفتند. البته بستگی به تعداد دیتاهای موجود نیز دارد. قابل مشاهده است که با افزایش نسبت به 40 به 60، خطای پیش بینی کاهش  پیدا کرده. می توان گفت که تا قبل از این، مدل overfit شده بود و با کاهش سایز داده های آموزشی، اوضاع آن بهبود یافت. \n",
    "</div>"
   ]
  },
  {
   "cell_type": "code",
   "execution_count": 20,
   "id": "25420b6f",
   "metadata": {},
   "outputs": [],
   "source": [
    "X = df_final.drop('price', axis=1)\n",
    "y = df_final['price']\n",
    "X_train, X_test, y_train, y_test = train_test_split(X, y, test_size = 0.2, random_state = 27)"
   ]
  },
  {
   "cell_type": "markdown",
   "id": "32982cc7",
   "metadata": {},
   "source": [
    "<div style=\"direction:rtl\">\n",
    "    <h3 style=\"font-family:B Nazanin; color:rgb(26, 26, 26)\">\n",
    "    ● سوال یک\n",
    "    </h3>\n",
    "</div>\n",
    "<div style=\"direction:rtl\">\n",
    "    <p style=\"font-family:B Nazanin; color:rgb(102, 102, 102); font-size: 20px; text-align: right\">\n",
    "  <br>این نمودارها اهمیت هر یک از Featureها در پیدا کردن قیمت را نشان می دهد یعنی می گوید کدام ویژگی مهم تر است و تاثیر بیشتری دارد. از این رو می توان ستون هایی را که تاثیر چندانی بر نتیجه ندارند را حذف کرد. متاسفانه، بنده موفق به اجرای این تکه کد نشدم و هربار پس از گذشت چندین دقیقه، کرنل restart میشد.\n",
    "</div>"
   ]
  },
  {
   "cell_type": "code",
   "execution_count": 21,
   "id": "90526095",
   "metadata": {},
   "outputs": [],
   "source": [
    "#mi = mutual_info_classif(X_train, y_train) "
   ]
  },
  {
   "cell_type": "code",
   "execution_count": 22,
   "id": "24d1a714",
   "metadata": {},
   "outputs": [],
   "source": [
    "portionOfData = 0.5\n",
    "X_train_knn = X_train[::int(1//portionOfData)]\n",
    "y_train_knn = y_train[::int(1//portionOfData)]"
   ]
  },
  {
   "cell_type": "markdown",
   "id": "34f21383",
   "metadata": {},
   "source": [
    "<p style = \"font-size: 20px; color: #004080; font-family:Times New Roman;\">● KNN</p>"
   ]
  },
  {
   "cell_type": "code",
   "execution_count": 23,
   "id": "1804279b",
   "metadata": {},
   "outputs": [
    {
     "name": "stdout",
     "output_type": "stream",
     "text": [
      "MSE score : 800795897940443.6\n",
      "RMSE score : 28298337.3706026\n"
     ]
    }
   ],
   "source": [
    "errors = []\n",
    "\n",
    "knn = KNeighborsRegressor(n_neighbors = 5)\n",
    "knn.fit(X_train_knn, y_train_knn)\n",
    "y_test_pred = knn.predict(X_test)\n",
    "\n",
    "MSE = mean_squared_error(y_test, y_test_pred)\n",
    "RMSE = mean_squared_error(y_test, y_test_pred, squared=False)\n",
    "errors.append(RMSE)\n",
    "print('MSE score :', MSE)\n",
    "print('RMSE score :', RMSE)"
   ]
  },
  {
   "cell_type": "code",
   "execution_count": 24,
   "id": "92efa141",
   "metadata": {},
   "outputs": [
    {
     "name": "stdout",
     "output_type": "stream",
     "text": [
      "MSE score : 771356141506760.8\n",
      "RMSE score : 27773299.07495256\n"
     ]
    }
   ],
   "source": [
    "knn = KNeighborsRegressor(n_neighbors = 25)\n",
    "knn.fit(X_train_knn, y_train_knn)\n",
    "y_test_pred = knn.predict(X_test)\n",
    "\n",
    "MSE = mean_squared_error(y_test, y_test_pred)\n",
    "RMSE = mean_squared_error(y_test, y_test_pred, squared=False)\n",
    "errors.append(RMSE)\n",
    "print('MSE score :', MSE)\n",
    "print('RMSE score :', RMSE)"
   ]
  },
  {
   "cell_type": "code",
   "execution_count": 25,
   "id": "3cd4fb41",
   "metadata": {},
   "outputs": [
    {
     "name": "stdout",
     "output_type": "stream",
     "text": [
      "MSE score : 780763616132980.2\n",
      "RMSE score : 27942147.665005643\n"
     ]
    }
   ],
   "source": [
    "knn = KNeighborsRegressor(n_neighbors = 50)\n",
    "knn.fit(X_train_knn, y_train_knn)\n",
    "y_test_pred = knn.predict(X_test)\n",
    "\n",
    "MSE = mean_squared_error(y_test, y_test_pred)\n",
    "RMSE = mean_squared_error(y_test, y_test_pred, squared=False)\n",
    "errors.append(RMSE)\n",
    "print('MSE score :', MSE)\n",
    "print('RMSE score :', RMSE)"
   ]
  },
  {
   "cell_type": "code",
   "execution_count": 26,
   "id": "4e1ff69f",
   "metadata": {
    "scrolled": false
   },
   "outputs": [
    {
     "name": "stdout",
     "output_type": "stream",
     "text": [
      "MSE score : 798500641545263.8\n",
      "RMSE score : 28257753.65355965\n"
     ]
    }
   ],
   "source": [
    "knn = KNeighborsRegressor(n_neighbors = 100)\n",
    "knn.fit(X_train_knn, y_train_knn)\n",
    "y_test_pred = knn.predict(X_test)\n",
    "\n",
    "MSE = mean_squared_error(y_test, y_test_pred)\n",
    "RMSE = mean_squared_error(y_test, y_test_pred, squared=False)\n",
    "errors.append(RMSE)\n",
    "print('MSE score :', MSE)\n",
    "print('RMSE score :', RMSE)"
   ]
  },
  {
   "cell_type": "code",
   "execution_count": 27,
   "id": "5119cf96",
   "metadata": {},
   "outputs": [
    {
     "data": {
      "image/png": "[encoded data removed]",
      "text/plain": [
       "<Figure size 432x288 with 1 Axes>"
      ]
     },
     "metadata": {
      "needs_background": "light"
     },
     "output_type": "display_data"
    }
   ],
   "source": [
    "plt.plot([5, 25, 50, 100], errors, label='RMSE Errors', c='green')\n",
    "plt.xlabel(\"n_neigbers\")\n",
    "plt.ylabel(\"RMSE Errors\")\n",
    "plt.legend()\n",
    "plt.show()"
   ]
  },
  {
   "cell_type": "markdown",
   "id": "6e7c8c59",
   "metadata": {},
   "source": [
    "<p style = \"font-size: 20px; color: #004080; font-family:Times New Roman;\">● Linear Regression</p>"
   ]
  },
  {
   "cell_type": "code",
   "execution_count": 28,
   "id": "83d9057a",
   "metadata": {},
   "outputs": [
    {
     "name": "stdout",
     "output_type": "stream",
     "text": [
      "MAE is 13510357.87120668\n",
      "RMSE is 26584979.91859796\n"
     ]
    }
   ],
   "source": [
    "lr = LinearRegression()\n",
    "lr.fit(X_train, y_train)\n",
    "y_test_pred = lr.predict(X_test)\n",
    "\n",
    "MSE = mean_squared_error(y_test, y_test_pred)\n",
    "MAE = mean_absolute_error(y_test, y_test_pred)\n",
    "print(\"MAE is\", MAE)\n",
    "print(\"RMSE is\", MSE ** 0.5)"
   ]
  },
  {
   "cell_type": "code",
   "execution_count": 29,
   "id": "4cb0ba5d",
   "metadata": {},
   "outputs": [],
   "source": [
    "X_all = np.concatenate((X_train, X_test))\n",
    "y_all = np.concatenate((y_train, y_test))\n",
    "X_train, X_test, y_train, y_test = train_test_split(X_all, y_all, test_size = 0.02, random_state = 27)"
   ]
  },
  {
   "cell_type": "code",
   "execution_count": 30,
   "id": "e1fa5e9b",
   "metadata": {},
   "outputs": [
    {
     "name": "stdout",
     "output_type": "stream",
     "text": [
      "MAE is 13279180.411033763\n",
      "RMSE is 25500523.87033573\n"
     ]
    }
   ],
   "source": [
    "lr = LinearRegression()\n",
    "lr.fit(X_train, y_train)\n",
    "y_test_pred = lr.predict(X_test)\n",
    "\n",
    "MSE = mean_squared_error(y_test, y_test_pred)\n",
    "MAE = mean_absolute_error(y_test, y_test_pred)\n",
    "print(\"MAE is\", MAE)\n",
    "print(\"RMSE is\", MSE ** 0.5)"
   ]
  },
  {
   "cell_type": "code",
   "execution_count": 31,
   "id": "9fadecf1",
   "metadata": {},
   "outputs": [],
   "source": [
    "X_all = np.concatenate((X_train, X_test))\n",
    "y_all = np.concatenate((y_train, y_test))\n",
    "X_train, X_test, y_train, y_test = train_test_split(X_all, y_all, test_size = 0.4, random_state = 27)"
   ]
  },
  {
   "cell_type": "code",
   "execution_count": 32,
   "id": "50e19ffe",
   "metadata": {},
   "outputs": [
    {
     "name": "stdout",
     "output_type": "stream",
     "text": [
      "MAE is 13441574.939063266\n",
      "RMSE is 26727370.499116115\n"
     ]
    }
   ],
   "source": [
    "lr = LinearRegression()\n",
    "lr.fit(X_train, y_train)\n",
    "y_test_pred = lr.predict(X_test)\n",
    "\n",
    "MSE = mean_squared_error(y_test, y_test_pred)\n",
    "MAE = mean_absolute_error(y_test, y_test_pred)\n",
    "print(\"MAE is\", MAE)\n",
    "print(\"RMSE is\", MSE ** 0.5)"
   ]
  },
  {
   "cell_type": "code",
   "execution_count": 33,
   "id": "dfd2179d",
   "metadata": {},
   "outputs": [],
   "source": [
    "X_all = np.concatenate((X_train, X_test))\n",
    "y_all = np.concatenate((y_train, y_test))\n",
    "X_train, X_test, y_train, y_test = train_test_split(X_all, y_all, test_size = 0.2, random_state = 27)"
   ]
  },
  {
   "cell_type": "markdown",
   "id": "14cffb1f",
   "metadata": {},
   "source": [
    "<p style = \"font-size: 20px; color: #004080; font-family:Times New Roman;\">● Decision Tree</p>"
   ]
  },
  {
   "cell_type": "code",
   "execution_count": 34,
   "id": "61d5af3d",
   "metadata": {},
   "outputs": [
    {
     "name": "stdout",
     "output_type": "stream",
     "text": [
      "MSE score : 748294115091082.8\n",
      "RMSE score : 27354965.090291794\n"
     ]
    }
   ],
   "source": [
    "errors = []\n",
    "sec_errors = []\n",
    "\n",
    "clf = tree.DecisionTreeRegressor()\n",
    "clf.fit(X_train, y_train)\n",
    "\n",
    "y_test_pred = clf.predict(X_test)\n",
    "\n",
    "MSE = mean_squared_error(y_test, y_test_pred)\n",
    "RMSE = mean_squared_error(y_test, y_test_pred, squared=False)\n",
    "errors.append(RMSE)\n",
    "sec_errors.append(MSE)\n",
    "print('MSE score :', MSE)\n",
    "print('RMSE score :', RMSE)"
   ]
  },
  {
   "cell_type": "code",
   "execution_count": 35,
   "id": "d7b8da63",
   "metadata": {},
   "outputs": [
    {
     "name": "stdout",
     "output_type": "stream",
     "text": [
      "MSE score : 646860334029004.0\n",
      "RMSE score : 25433449.11782521\n"
     ]
    }
   ],
   "source": [
    "clf = tree.DecisionTreeRegressor(min_samples_split=200, max_depth = 5)\n",
    "clf.fit(X_train, y_train)\n",
    "y_test_pred = clf.predict(X_test)\n",
    "MSE = mean_squared_error(y_test, y_test_pred)\n",
    "RMSE = mean_squared_error(y_test, y_test_pred, squared=False)\n",
    "sec_errors.append(MSE)\n",
    "errors.append(RMSE)\n",
    "print('MSE score :', MSE)\n",
    "print('RMSE score :', RMSE)"
   ]
  },
  {
   "cell_type": "code",
   "execution_count": 36,
   "id": "bdc89ba0",
   "metadata": {},
   "outputs": [
    {
     "name": "stdout",
     "output_type": "stream",
     "text": [
      "MSE score : 538802783646248.44\n",
      "RMSE score : 23212125.789040703\n"
     ]
    }
   ],
   "source": [
    "clf = tree.DecisionTreeRegressor(min_samples_split=200, max_depth = 10)\n",
    "clf.fit(X_train, y_train)\n",
    "y_test_pred = clf.predict(X_test)\n",
    "MSE = mean_squared_error(y_test, y_test_pred)\n",
    "RMSE = mean_squared_error(y_test, y_test_pred, squared=False)\n",
    "sec_errors.append(MSE)\n",
    "errors.append(RMSE)\n",
    "print('MSE score :', MSE)\n",
    "print('RMSE score :', RMSE)"
   ]
  },
  {
   "cell_type": "code",
   "execution_count": 37,
   "id": "f732e6bd",
   "metadata": {},
   "outputs": [
    {
     "name": "stdout",
     "output_type": "stream",
     "text": [
      "MSE score : 532604711957111.3\n",
      "RMSE score : 23078230.260509823\n"
     ]
    }
   ],
   "source": [
    "clf = tree.DecisionTreeRegressor(min_samples_split=200, max_depth = 15)\n",
    "clf.fit(X_train, y_train)\n",
    "y_test_pred = clf.predict(X_test)\n",
    "MSE = mean_squared_error(y_test, y_test_pred)\n",
    "RMSE = mean_squared_error(y_test, y_test_pred, squared=False)\n",
    "sec_errors.append(MSE)\n",
    "errors.append(RMSE)\n",
    "print('MSE score :', MSE)\n",
    "print('RMSE score :', RMSE)"
   ]
  },
  {
   "cell_type": "code",
   "execution_count": 38,
   "id": "b951f9a8",
   "metadata": {},
   "outputs": [
    {
     "name": "stdout",
     "output_type": "stream",
     "text": [
      "MSE score : 532546098034470.0\n",
      "RMSE score : 23076960.329178322\n"
     ]
    }
   ],
   "source": [
    "clf = tree.DecisionTreeRegressor(min_samples_split=200, max_depth = 20)\n",
    "clf.fit(X_train, y_train)\n",
    "y_test_pred = clf.predict(X_test)\n",
    "MSE = mean_squared_error(y_test, y_test_pred)\n",
    "RMSE = mean_squared_error(y_test, y_test_pred, squared=False)\n",
    "sec_errors.append(MSE)\n",
    "errors.append(RMSE)\n",
    "print('MSE score :', MSE)\n",
    "print('RMSE score :', RMSE)"
   ]
  },
  {
   "cell_type": "code",
   "execution_count": 39,
   "id": "699ee16d",
   "metadata": {},
   "outputs": [
    {
     "name": "stdout",
     "output_type": "stream",
     "text": [
      "MSE score : 535964072993198.5\n",
      "RMSE score : 23150897.887408137\n"
     ]
    }
   ],
   "source": [
    "clf = tree.DecisionTreeRegressor(min_samples_split=200, max_depth = 25)\n",
    "clf.fit(X_train, y_train)\n",
    "y_test_pred = clf.predict(X_test)\n",
    "MSE = mean_squared_error(y_test, y_test_pred)\n",
    "RMSE = mean_squared_error(y_test, y_test_pred, squared=False)\n",
    "sec_errors.append(MSE)\n",
    "errors.append(RMSE)\n",
    "print('MSE score :', MSE)\n",
    "print('RMSE score :', RMSE)"
   ]
  },
  {
   "cell_type": "code",
   "execution_count": 40,
   "id": "29bb48a7",
   "metadata": {},
   "outputs": [
    {
     "name": "stdout",
     "output_type": "stream",
     "text": [
      "MSE score : 542150821594241.8\n",
      "RMSE score : 23284132.399431203\n"
     ]
    }
   ],
   "source": [
    "clf = tree.DecisionTreeRegressor(min_samples_split=200, max_depth=50)\n",
    "clf.fit(X_train, y_train)\n",
    "y_test_pred = clf.predict(X_test)\n",
    "MSE = mean_squared_error(y_test, y_test_pred)\n",
    "RMSE = mean_squared_error(y_test, y_test_pred, squared=False)\n",
    "sec_errors.append(MSE)\n",
    "errors.append(RMSE)\n",
    "print('MSE score :', MSE)\n",
    "print('RMSE score :', RMSE)"
   ]
  },
  {
   "cell_type": "code",
   "execution_count": 41,
   "id": "7ab551e1",
   "metadata": {},
   "outputs": [
    {
     "name": "stdout",
     "output_type": "stream",
     "text": [
      "MSE score : 545498801106519.3\n",
      "RMSE score : 23355915.76253261\n"
     ]
    }
   ],
   "source": [
    "clf = tree.DecisionTreeRegressor(min_samples_split=200, max_depth=100)\n",
    "clf.fit(X_train, y_train)\n",
    "y_test_pred = clf.predict(X_test)\n",
    "MSE = mean_squared_error(y_test, y_test_pred)\n",
    "RMSE = mean_squared_error(y_test, y_test_pred, squared=False)\n",
    "sec_errors.append(MSE)\n",
    "errors.append(RMSE)\n",
    "print('MSE score :', MSE)\n",
    "print('RMSE score :', RMSE)"
   ]
  },
  {
   "cell_type": "code",
   "execution_count": 42,
   "id": "d7a3e78d",
   "metadata": {},
   "outputs": [
    {
     "data": {
      "image/png": "[encoded data removed]",
      "text/plain": [
       "<Figure size 432x288 with 1 Axes>"
      ]
     },
     "metadata": {
      "needs_background": "light"
     },
     "output_type": "display_data"
    }
   ],
   "source": [
    "plt.plot([0, 5, 10, 15, 20, 25, 50, 100], errors, label='RMSE Errors', c='green')\n",
    "plt.xlabel(\"Max_Depth\")\n",
    "plt.ylabel(\"RMSE Errors\")\n",
    "plt.legend()\n",
    "plt.show()"
   ]
  },
  {
   "cell_type": "code",
   "execution_count": 43,
   "id": "339b586c",
   "metadata": {
    "scrolled": true
   },
   "outputs": [
    {
     "data": {
      "image/png": "[encoded data removed]",
      "text/plain": [
       "<Figure size 432x288 with 1 Axes>"
      ]
     },
     "metadata": {
      "needs_background": "light"
     },
     "output_type": "display_data"
    }
   ],
   "source": [
    "plt.plot([0, 5, 10, 15, 20, 25, 50, 100], sec_errors, label='MSE Errors', c='green')\n",
    "plt.xlabel(\"Max_Depth\")\n",
    "plt.ylabel(\"MSE Errors\")\n",
    "plt.legend()\n",
    "plt.show()"
   ]
  },
  {
   "cell_type": "markdown",
   "id": "603e0801",
   "metadata": {},
   "source": [
    "<div style=\"direction:rtl\">\n",
    "    <h3 style=\"font-family:B Nazanin; color:rgb(26, 26, 26)\">\n",
    "    ● سوال شش\n",
    "    </h3>\n",
    "</div>\n",
    "<div style=\"direction:rtl\">\n",
    "    <p style=\"font-family:B Nazanin; color:rgb(102, 102, 102); font-size: 20px; text-align: right\">\n",
    "  <br> قبل از تغییر max_depth مقادیر متفاوتی برای min_samples_split امتخان شد و بهترین آن که 200 است انتخاب شد. حال با تغییر max_depth قابل  مشاهده است که از یکجایی به بعد که تقریبا عمق 15 است، دیگر افزایش عمق به کاهش خطا کمک نمی کند. بلکه به صورت جزیی افزایش نیز می یابد. \n",
    "</div>"
   ]
  },
  {
   "cell_type": "markdown",
   "id": "2349f4ba",
   "metadata": {},
   "source": [
    "<p style = \"font-size: 20px; color: #004080; font-family:Times New Roman;\">● Random Forest</p>"
   ]
  },
  {
   "cell_type": "code",
   "execution_count": 44,
   "id": "759a4693",
   "metadata": {
    "scrolled": false
   },
   "outputs": [
    {
     "name": "stdout",
     "output_type": "stream",
     "text": [
      "MSE score : 529607916760661.9\n",
      "RMSE score : 23013211.787159607\n"
     ]
    }
   ],
   "source": [
    "errors = []\n",
    "clf = RandomForestRegressor(n_estimators=50, max_depth=10)\n",
    "clf.fit(X_train, y_train)\n",
    "y_test_pred = clf.predict(X_test)\n",
    "MSE = mean_squared_error(y_test, y_test_pred)\n",
    "RMSE = mean_squared_error(y_test, y_test_pred, squared=False)\n",
    "errors.append(RMSE)\n",
    "print('MSE score :', MSE)\n",
    "print('RMSE score :', RMSE)"
   ]
  },
  {
   "cell_type": "code",
   "execution_count": 45,
   "id": "66b593a9",
   "metadata": {},
   "outputs": [
    {
     "name": "stdout",
     "output_type": "stream",
     "text": [
      "MSE score : 546041798730533.3\n",
      "RMSE score : 23367537.284243997\n"
     ]
    }
   ],
   "source": [
    "clf = RandomForestRegressor(n_estimators=50, max_depth=25)\n",
    "clf.fit(X_train, y_train)\n",
    "y_test_pred = clf.predict(X_test)\n",
    "MSE = mean_squared_error(y_test, y_test_pred)\n",
    "RMSE = mean_squared_error(y_test, y_test_pred, squared=False)\n",
    "errors.append(RMSE)\n",
    "print('MSE score :', MSE)\n",
    "print('RMSE score :', RMSE)"
   ]
  },
  {
   "cell_type": "code",
   "execution_count": 46,
   "id": "e21365a5",
   "metadata": {},
   "outputs": [
    {
     "name": "stdout",
     "output_type": "stream",
     "text": [
      "MSE score : 572595134390479.8\n",
      "RMSE score : 23928960.161078453\n"
     ]
    }
   ],
   "source": [
    "clf = RandomForestRegressor(n_estimators=50, max_depth=50)\n",
    "clf.fit(X_train, y_train)\n",
    "y_test_pred = clf.predict(X_test)\n",
    "MSE = mean_squared_error(y_test, y_test_pred)\n",
    "RMSE = mean_squared_error(y_test, y_test_pred, squared=False)\n",
    "errors.append(RMSE)\n",
    "print('MSE score :', MSE)\n",
    "print('RMSE score :', RMSE)"
   ]
  },
  {
   "cell_type": "code",
   "execution_count": 47,
   "id": "45f64494",
   "metadata": {},
   "outputs": [
    {
     "name": "stdout",
     "output_type": "stream",
     "text": [
      "MSE score : 578060996326013.4\n",
      "RMSE score : 24042899.083222333\n"
     ]
    }
   ],
   "source": [
    "clf = RandomForestRegressor(n_estimators=50, max_depth=75)\n",
    "clf.fit(X_train, y_train)\n",
    "y_test_pred = clf.predict(X_test)\n",
    "MSE = mean_squared_error(y_test, y_test_pred)\n",
    "RMSE = mean_squared_error(y_test, y_test_pred, squared=False)\n",
    "errors.append(RMSE)\n",
    "print('MSE score :', MSE)\n",
    "print('RMSE score :', RMSE)"
   ]
  },
  {
   "cell_type": "code",
   "execution_count": 48,
   "id": "fdf55d2b",
   "metadata": {},
   "outputs": [
    {
     "data": {
      "image/png": "[encoded data removed]",
      "text/plain": [
       "<Figure size 432x288 with 1 Axes>"
      ]
     },
     "metadata": {
      "needs_background": "light"
     },
     "output_type": "display_data"
    }
   ],
   "source": [
    "plt.plot([10, 25, 50, 75], errors, label='RMSE Errors', c='green')\n",
    "plt.xlabel(\"Max_Depth\")\n",
    "plt.ylabel(\"RMSE Errors\")\n",
    "plt.legend()\n",
    "plt.show()"
   ]
  },
  {
   "cell_type": "markdown",
   "id": "ce41cabe",
   "metadata": {},
   "source": [
    "<div style=\"direction:rtl\">\n",
    "    <h3 style=\"font-family:B Nazanin; color:rgb(26, 26, 26)\">\n",
    "    ● سوال هفت\n",
    "    </h3>\n",
    "</div>\n",
    "<div style=\"direction:rtl\">\n",
    "    <p style=\"font-family:B Nazanin; color:rgb(102, 102, 102); font-size: 20px; text-align: right\">\n",
    "  <br> مفهوم بایاس و واریانس با میزان پیچیدگی ارتباط دارد. بایاس بالا به معنی سادگی بیش از حد دسته بندی و underfitting و واریانس بالا به معنای پیچیدگی زیاد و overfitting است. با توجه به اینکه داده های ورودی خود واریانس بالایی دارند، شاید آنقدر هم استفاده از این الگوریتم به افزایش بهره وری کمک نکند. کااینکه نتایج هم این حرف را تایید می کند. \n",
    "</div>"
   ]
  }
 ],
 "metadata": {
  "kernelspec": {
   "display_name": "Python 3",
   "language": "python",
   "name": "python3"
  },
  "language_info": {
   "codemirror_mode": {
    "name": "ipython",
    "version": 3
   },
   "file_extension": ".py",
   "mimetype": "text/x-python",
   "name": "python",
   "nbconvert_exporter": "python",
   "pygments_lexer": "ipython3",
   "version": "3.8.5"
  }
 },
 "nbformat": 4,
 "nbformat_minor": 5
}
